{
 "cells": [
  {
   "cell_type": "markdown",
   "id": "c0951d7a",
   "metadata": {},
   "source": [
    "### Введение\n",
    "\n",
    "Нужно выявить определяющие успешность игры закономерности. Это позволит сделать ставку на потенциально популярный продукт и спланировать рекламные кампании."
   ]
  },
  {
   "cell_type": "markdown",
   "id": "e90943ec",
   "metadata": {},
   "source": [
    "### Импортируем необходимые библиотеки"
   ]
  },
  {
   "cell_type": "code",
   "execution_count": 2,
   "id": "789cc25a",
   "metadata": {},
   "outputs": [],
   "source": [
    "import pandas as pd\n",
    "import math\n",
    "import numpy as np\n",
    "import seaborn as sns\n",
    "import matplotlib.pyplot as plt\n",
    "from scipy import stats as st "
   ]
  },
  {
   "cell_type": "code",
   "execution_count": 3,
   "id": "fad35b5f",
   "metadata": {
    "scrolled": true
   },
   "outputs": [
    {
     "data": {
      "text/html": [
       "<div>\n",
       "<style scoped>\n",
       "    .dataframe tbody tr th:only-of-type {\n",
       "        vertical-align: middle;\n",
       "    }\n",
       "\n",
       "    .dataframe tbody tr th {\n",
       "        vertical-align: top;\n",
       "    }\n",
       "\n",
       "    .dataframe thead th {\n",
       "        text-align: right;\n",
       "    }\n",
       "</style>\n",
       "<table border=\"1\" class=\"dataframe\">\n",
       "  <thead>\n",
       "    <tr style=\"text-align: right;\">\n",
       "      <th></th>\n",
       "      <th>Name</th>\n",
       "      <th>Platform</th>\n",
       "      <th>Year_of_Release</th>\n",
       "      <th>Genre</th>\n",
       "      <th>NA_sales</th>\n",
       "      <th>EU_sales</th>\n",
       "      <th>JP_sales</th>\n",
       "      <th>Other_sales</th>\n",
       "      <th>Critic_Score</th>\n",
       "      <th>User_Score</th>\n",
       "      <th>Rating</th>\n",
       "    </tr>\n",
       "  </thead>\n",
       "  <tbody>\n",
       "    <tr>\n",
       "      <th>0</th>\n",
       "      <td>Wii Sports</td>\n",
       "      <td>Wii</td>\n",
       "      <td>2006.0</td>\n",
       "      <td>Sports</td>\n",
       "      <td>41.36</td>\n",
       "      <td>28.96</td>\n",
       "      <td>3.77</td>\n",
       "      <td>8.45</td>\n",
       "      <td>76.0</td>\n",
       "      <td>8</td>\n",
       "      <td>E</td>\n",
       "    </tr>\n",
       "    <tr>\n",
       "      <th>1</th>\n",
       "      <td>Super Mario Bros.</td>\n",
       "      <td>NES</td>\n",
       "      <td>1985.0</td>\n",
       "      <td>Platform</td>\n",
       "      <td>29.08</td>\n",
       "      <td>3.58</td>\n",
       "      <td>6.81</td>\n",
       "      <td>0.77</td>\n",
       "      <td>NaN</td>\n",
       "      <td>NaN</td>\n",
       "      <td>NaN</td>\n",
       "    </tr>\n",
       "    <tr>\n",
       "      <th>2</th>\n",
       "      <td>Mario Kart Wii</td>\n",
       "      <td>Wii</td>\n",
       "      <td>2008.0</td>\n",
       "      <td>Racing</td>\n",
       "      <td>15.68</td>\n",
       "      <td>12.76</td>\n",
       "      <td>3.79</td>\n",
       "      <td>3.29</td>\n",
       "      <td>82.0</td>\n",
       "      <td>8.3</td>\n",
       "      <td>E</td>\n",
       "    </tr>\n",
       "    <tr>\n",
       "      <th>3</th>\n",
       "      <td>Wii Sports Resort</td>\n",
       "      <td>Wii</td>\n",
       "      <td>2009.0</td>\n",
       "      <td>Sports</td>\n",
       "      <td>15.61</td>\n",
       "      <td>10.93</td>\n",
       "      <td>3.28</td>\n",
       "      <td>2.95</td>\n",
       "      <td>80.0</td>\n",
       "      <td>8</td>\n",
       "      <td>E</td>\n",
       "    </tr>\n",
       "    <tr>\n",
       "      <th>4</th>\n",
       "      <td>Pokemon Red/Pokemon Blue</td>\n",
       "      <td>GB</td>\n",
       "      <td>1996.0</td>\n",
       "      <td>Role-Playing</td>\n",
       "      <td>11.27</td>\n",
       "      <td>8.89</td>\n",
       "      <td>10.22</td>\n",
       "      <td>1.00</td>\n",
       "      <td>NaN</td>\n",
       "      <td>NaN</td>\n",
       "      <td>NaN</td>\n",
       "    </tr>\n",
       "    <tr>\n",
       "      <th>5</th>\n",
       "      <td>Tetris</td>\n",
       "      <td>GB</td>\n",
       "      <td>1989.0</td>\n",
       "      <td>Puzzle</td>\n",
       "      <td>23.20</td>\n",
       "      <td>2.26</td>\n",
       "      <td>4.22</td>\n",
       "      <td>0.58</td>\n",
       "      <td>NaN</td>\n",
       "      <td>NaN</td>\n",
       "      <td>NaN</td>\n",
       "    </tr>\n",
       "    <tr>\n",
       "      <th>6</th>\n",
       "      <td>New Super Mario Bros.</td>\n",
       "      <td>DS</td>\n",
       "      <td>2006.0</td>\n",
       "      <td>Platform</td>\n",
       "      <td>11.28</td>\n",
       "      <td>9.14</td>\n",
       "      <td>6.50</td>\n",
       "      <td>2.88</td>\n",
       "      <td>89.0</td>\n",
       "      <td>8.5</td>\n",
       "      <td>E</td>\n",
       "    </tr>\n",
       "    <tr>\n",
       "      <th>7</th>\n",
       "      <td>Wii Play</td>\n",
       "      <td>Wii</td>\n",
       "      <td>2006.0</td>\n",
       "      <td>Misc</td>\n",
       "      <td>13.96</td>\n",
       "      <td>9.18</td>\n",
       "      <td>2.93</td>\n",
       "      <td>2.84</td>\n",
       "      <td>58.0</td>\n",
       "      <td>6.6</td>\n",
       "      <td>E</td>\n",
       "    </tr>\n",
       "    <tr>\n",
       "      <th>8</th>\n",
       "      <td>New Super Mario Bros. Wii</td>\n",
       "      <td>Wii</td>\n",
       "      <td>2009.0</td>\n",
       "      <td>Platform</td>\n",
       "      <td>14.44</td>\n",
       "      <td>6.94</td>\n",
       "      <td>4.70</td>\n",
       "      <td>2.24</td>\n",
       "      <td>87.0</td>\n",
       "      <td>8.4</td>\n",
       "      <td>E</td>\n",
       "    </tr>\n",
       "    <tr>\n",
       "      <th>9</th>\n",
       "      <td>Duck Hunt</td>\n",
       "      <td>NES</td>\n",
       "      <td>1984.0</td>\n",
       "      <td>Shooter</td>\n",
       "      <td>26.93</td>\n",
       "      <td>0.63</td>\n",
       "      <td>0.28</td>\n",
       "      <td>0.47</td>\n",
       "      <td>NaN</td>\n",
       "      <td>NaN</td>\n",
       "      <td>NaN</td>\n",
       "    </tr>\n",
       "  </tbody>\n",
       "</table>\n",
       "</div>"
      ],
      "text/plain": [
       "                        Name Platform  Year_of_Release         Genre  \\\n",
       "0                 Wii Sports      Wii           2006.0        Sports   \n",
       "1          Super Mario Bros.      NES           1985.0      Platform   \n",
       "2             Mario Kart Wii      Wii           2008.0        Racing   \n",
       "3          Wii Sports Resort      Wii           2009.0        Sports   \n",
       "4   Pokemon Red/Pokemon Blue       GB           1996.0  Role-Playing   \n",
       "5                     Tetris       GB           1989.0        Puzzle   \n",
       "6      New Super Mario Bros.       DS           2006.0      Platform   \n",
       "7                   Wii Play      Wii           2006.0          Misc   \n",
       "8  New Super Mario Bros. Wii      Wii           2009.0      Platform   \n",
       "9                  Duck Hunt      NES           1984.0       Shooter   \n",
       "\n",
       "   NA_sales  EU_sales  JP_sales  Other_sales  Critic_Score User_Score Rating  \n",
       "0     41.36     28.96      3.77         8.45          76.0          8      E  \n",
       "1     29.08      3.58      6.81         0.77           NaN        NaN    NaN  \n",
       "2     15.68     12.76      3.79         3.29          82.0        8.3      E  \n",
       "3     15.61     10.93      3.28         2.95          80.0          8      E  \n",
       "4     11.27      8.89     10.22         1.00           NaN        NaN    NaN  \n",
       "5     23.20      2.26      4.22         0.58           NaN        NaN    NaN  \n",
       "6     11.28      9.14      6.50         2.88          89.0        8.5      E  \n",
       "7     13.96      9.18      2.93         2.84          58.0        6.6      E  \n",
       "8     14.44      6.94      4.70         2.24          87.0        8.4      E  \n",
       "9     26.93      0.63      0.28         0.47           NaN        NaN    NaN  "
      ]
     },
     "execution_count": 3,
     "metadata": {},
     "output_type": "execute_result"
    }
   ],
   "source": [
    "#Импортируем и посмотрим на датасет\n",
    "try:\n",
    "    data = pd.read_csv('games.csv')\n",
    "except:\n",
    "    data = pd.read_csv('/datasets/games.csv')\n",
    "\n",
    "data.head(10)"
   ]
  },
  {
   "cell_type": "code",
   "execution_count": 4,
   "id": "02cefc5f",
   "metadata": {},
   "outputs": [
    {
     "name": "stdout",
     "output_type": "stream",
     "text": [
      "<class 'pandas.core.frame.DataFrame'>\n",
      "RangeIndex: 16715 entries, 0 to 16714\n",
      "Data columns (total 11 columns):\n",
      " #   Column           Non-Null Count  Dtype  \n",
      "---  ------           --------------  -----  \n",
      " 0   Name             16713 non-null  object \n",
      " 1   Platform         16715 non-null  object \n",
      " 2   Year_of_Release  16446 non-null  float64\n",
      " 3   Genre            16713 non-null  object \n",
      " 4   NA_sales         16715 non-null  float64\n",
      " 5   EU_sales         16715 non-null  float64\n",
      " 6   JP_sales         16715 non-null  float64\n",
      " 7   Other_sales      16715 non-null  float64\n",
      " 8   Critic_Score     8137 non-null   float64\n",
      " 9   User_Score       10014 non-null  object \n",
      " 10  Rating           9949 non-null   object \n",
      "dtypes: float64(6), object(5)\n",
      "memory usage: 1.4+ MB\n"
     ]
    }
   ],
   "source": [
    "#Посмотрим основную иформацию о датасете\n",
    "data.info()"
   ]
  },
  {
   "cell_type": "code",
   "execution_count": 5,
   "id": "588e3bb5",
   "metadata": {},
   "outputs": [
    {
     "data": {
      "text/html": [
       "<div>\n",
       "<style scoped>\n",
       "    .dataframe tbody tr th:only-of-type {\n",
       "        vertical-align: middle;\n",
       "    }\n",
       "\n",
       "    .dataframe tbody tr th {\n",
       "        vertical-align: top;\n",
       "    }\n",
       "\n",
       "    .dataframe thead th {\n",
       "        text-align: right;\n",
       "    }\n",
       "</style>\n",
       "<table border=\"1\" class=\"dataframe\">\n",
       "  <thead>\n",
       "    <tr style=\"text-align: right;\">\n",
       "      <th></th>\n",
       "      <th>Year_of_Release</th>\n",
       "      <th>NA_sales</th>\n",
       "      <th>EU_sales</th>\n",
       "      <th>JP_sales</th>\n",
       "      <th>Other_sales</th>\n",
       "      <th>Critic_Score</th>\n",
       "    </tr>\n",
       "  </thead>\n",
       "  <tbody>\n",
       "    <tr>\n",
       "      <th>count</th>\n",
       "      <td>16446.000000</td>\n",
       "      <td>16715.000000</td>\n",
       "      <td>16715.000000</td>\n",
       "      <td>16715.000000</td>\n",
       "      <td>16715.000000</td>\n",
       "      <td>8137.000000</td>\n",
       "    </tr>\n",
       "    <tr>\n",
       "      <th>mean</th>\n",
       "      <td>2006.484616</td>\n",
       "      <td>0.263377</td>\n",
       "      <td>0.145060</td>\n",
       "      <td>0.077617</td>\n",
       "      <td>0.047342</td>\n",
       "      <td>68.967679</td>\n",
       "    </tr>\n",
       "    <tr>\n",
       "      <th>std</th>\n",
       "      <td>5.877050</td>\n",
       "      <td>0.813604</td>\n",
       "      <td>0.503339</td>\n",
       "      <td>0.308853</td>\n",
       "      <td>0.186731</td>\n",
       "      <td>13.938165</td>\n",
       "    </tr>\n",
       "    <tr>\n",
       "      <th>min</th>\n",
       "      <td>1980.000000</td>\n",
       "      <td>0.000000</td>\n",
       "      <td>0.000000</td>\n",
       "      <td>0.000000</td>\n",
       "      <td>0.000000</td>\n",
       "      <td>13.000000</td>\n",
       "    </tr>\n",
       "    <tr>\n",
       "      <th>25%</th>\n",
       "      <td>2003.000000</td>\n",
       "      <td>0.000000</td>\n",
       "      <td>0.000000</td>\n",
       "      <td>0.000000</td>\n",
       "      <td>0.000000</td>\n",
       "      <td>60.000000</td>\n",
       "    </tr>\n",
       "    <tr>\n",
       "      <th>50%</th>\n",
       "      <td>2007.000000</td>\n",
       "      <td>0.080000</td>\n",
       "      <td>0.020000</td>\n",
       "      <td>0.000000</td>\n",
       "      <td>0.010000</td>\n",
       "      <td>71.000000</td>\n",
       "    </tr>\n",
       "    <tr>\n",
       "      <th>75%</th>\n",
       "      <td>2010.000000</td>\n",
       "      <td>0.240000</td>\n",
       "      <td>0.110000</td>\n",
       "      <td>0.040000</td>\n",
       "      <td>0.030000</td>\n",
       "      <td>79.000000</td>\n",
       "    </tr>\n",
       "    <tr>\n",
       "      <th>max</th>\n",
       "      <td>2016.000000</td>\n",
       "      <td>41.360000</td>\n",
       "      <td>28.960000</td>\n",
       "      <td>10.220000</td>\n",
       "      <td>10.570000</td>\n",
       "      <td>98.000000</td>\n",
       "    </tr>\n",
       "  </tbody>\n",
       "</table>\n",
       "</div>"
      ],
      "text/plain": [
       "       Year_of_Release      NA_sales      EU_sales      JP_sales  \\\n",
       "count     16446.000000  16715.000000  16715.000000  16715.000000   \n",
       "mean       2006.484616      0.263377      0.145060      0.077617   \n",
       "std           5.877050      0.813604      0.503339      0.308853   \n",
       "min        1980.000000      0.000000      0.000000      0.000000   \n",
       "25%        2003.000000      0.000000      0.000000      0.000000   \n",
       "50%        2007.000000      0.080000      0.020000      0.000000   \n",
       "75%        2010.000000      0.240000      0.110000      0.040000   \n",
       "max        2016.000000     41.360000     28.960000     10.220000   \n",
       "\n",
       "        Other_sales  Critic_Score  \n",
       "count  16715.000000   8137.000000  \n",
       "mean       0.047342     68.967679  \n",
       "std        0.186731     13.938165  \n",
       "min        0.000000     13.000000  \n",
       "25%        0.000000     60.000000  \n",
       "50%        0.010000     71.000000  \n",
       "75%        0.030000     79.000000  \n",
       "max       10.570000     98.000000  "
      ]
     },
     "execution_count": 5,
     "metadata": {},
     "output_type": "execute_result"
    }
   ],
   "source": [
    "data.describe()"
   ]
  },
  {
   "cell_type": "markdown",
   "id": "767d3ab0",
   "metadata": {},
   "source": [
    "### 1. Подготовка данных"
   ]
  },
  {
   "cell_type": "code",
   "execution_count": 6,
   "id": "da283de9",
   "metadata": {},
   "outputs": [
    {
     "data": {
      "text/plain": [
       "Index(['name', 'platform', 'year_of_release', 'genre', 'na_sales', 'eu_sales',\n",
       "       'jp_sales', 'other_sales', 'critic_score', 'user_score', 'rating'],\n",
       "      dtype='object')"
      ]
     },
     "execution_count": 6,
     "metadata": {},
     "output_type": "execute_result"
    }
   ],
   "source": [
    "#Приведем навания столбцов к нижнему регистру\n",
    "data.columns = data.columns.str.lower()\n",
    "data.columns"
   ]
  },
  {
   "cell_type": "code",
   "execution_count": 7,
   "id": "b1b39c51",
   "metadata": {},
   "outputs": [
    {
     "data": {
      "text/plain": [
       "critic_score       51.319174\n",
       "rating             40.478612\n",
       "user_score         40.089740\n",
       "year_of_release     1.609333\n",
       "name                0.011965\n",
       "genre               0.011965\n",
       "platform            0.000000\n",
       "na_sales            0.000000\n",
       "eu_sales            0.000000\n",
       "jp_sales            0.000000\n",
       "other_sales         0.000000\n",
       "dtype: float64"
      ]
     },
     "execution_count": 7,
     "metadata": {},
     "output_type": "execute_result"
    }
   ],
   "source": [
    "#Проверим где есть пропуски и какая доля пропусков в каждом столбце.\n",
    "(data\n",
    "    .isna()\n",
    "    .mean()\n",
    "    .sort_values(ascending = False)*100)\n"
   ]
  },
  {
   "cell_type": "code",
   "execution_count": 8,
   "id": "ffb702ac",
   "metadata": {},
   "outputs": [
    {
     "data": {
      "text/plain": [
       "<AxesSubplot:>"
      ]
     },
     "execution_count": 8,
     "metadata": {},
     "output_type": "execute_result"
    },
    {
     "data": {
      "image/png": "[encoded data removed]",
      "text/plain": [
       "<Figure size 1440x504 with 2 Axes>"
      ]
     },
     "metadata": {
      "needs_background": "light"
     },
     "output_type": "display_data"
    }
   ],
   "source": [
    "#Попробуем  визуализировать пропуски с помощью прикола, который мне скинул ревьюер на предыдущем проекте\n",
    "plt.figure(figsize = (20,7))\n",
    "sns.heatmap(data[data.columns].isnull())"
   ]
  },
  {
   "cell_type": "markdown",
   "id": "99944db0",
   "metadata": {},
   "source": [
    "Пропуски присутствуют в основном в столбцах с данными, касающихся оценок игры критиками и игроками а также в столбце с возрастным рейтингом. Думаю вряд ли у какой-либо игры могут отсутствовать оценки игроков или критиков, так что предположу, что пропуски тут обусловлены скорее техническими проблемами при выгрузке данных.\n",
    "Заменять пропуски на медиану или среднее с привязкой к жанру и платформе не разумно, тк игры в одном жанре и на одной платформе могут быть как хороши так и ужасны. Поэтому пропуски в этих столбцах оставляем как есть."
   ]
  },
  {
   "cell_type": "code",
   "execution_count": 9,
   "id": "f78ce7d8",
   "metadata": {},
   "outputs": [
    {
     "data": {
      "text/plain": [
       "array([[<AxesSubplot:title={'center':'year_of_release'}>]], dtype=object)"
      ]
     },
     "execution_count": 9,
     "metadata": {},
     "output_type": "execute_result"
    },
    {
     "data": {
      "image/png": "[encoded data removed]",
      "text/plain": [
       "<Figure size 1440x504 with 1 Axes>"
      ]
     },
     "metadata": {
      "needs_background": "light"
     },
     "output_type": "display_data"
    }
   ],
   "source": [
    "#Посмотрим есть ли какие-то закономерности в пропусках в столбце rating\n",
    "data.loc[data['rating'].isna(), ['year_of_release']].hist(figsize = (20,7))\n",
    "#Ничего необычного. Также ставляем пропуски как есть"
   ]
  },
  {
   "cell_type": "code",
   "execution_count": 10,
   "id": "a35800fe",
   "metadata": {},
   "outputs": [
    {
     "data": {
      "text/plain": [
       "array(['8', nan, '8.3', '8.5', '6.6', '8.4', '8.6', '7.7', '6.3', '7.4',\n",
       "       '8.2', '9', '7.9', '8.1', '8.7', '7.1', '3.4', '5.3', '4.8', '3.2',\n",
       "       '8.9', '6.4', '7.8', '7.5', '2.6', '7.2', '9.2', '7', '7.3', '4.3',\n",
       "       '7.6', '5.7', '5', '9.1', '6.5', 'tbd', '8.8', '6.9', '9.4', '6.8',\n",
       "       '6.1', '6.7', '5.4', '4', '4.9', '4.5', '9.3', '6.2', '4.2', '6',\n",
       "       '3.7', '4.1', '5.8', '5.6', '5.5', '4.4', '4.6', '5.9', '3.9',\n",
       "       '3.1', '2.9', '5.2', '3.3', '4.7', '5.1', '3.5', '2.5', '1.9', '3',\n",
       "       '2.7', '2.2', '2', '9.5', '2.1', '3.6', '2.8', '1.8', '3.8', '0',\n",
       "       '1.6', '9.6', '2.4', '1.7', '1.1', '0.3', '1.5', '0.7', '1.2',\n",
       "       '2.3', '0.5', '1.3', '0.2', '0.6', '1.4', '0.9', '1', '9.7'],\n",
       "      dtype=object)"
      ]
     },
     "execution_count": 10,
     "metadata": {},
     "output_type": "execute_result"
    }
   ],
   "source": [
    "#Разберемся с tbd\n",
    "data['user_score'].unique()"
   ]
  },
  {
   "cell_type": "code",
   "execution_count": 11,
   "id": "4bb91650",
   "metadata": {
    "scrolled": true
   },
   "outputs": [
    {
     "data": {
      "text/plain": [
       "2424"
      ]
     },
     "execution_count": 11,
     "metadata": {},
     "output_type": "execute_result"
    }
   ],
   "source": [
    "#Гугл говорит, что tbd значит \"to be determined\" - \"подлежит уточнению\". Посмотрим, сколько таких значений в таблице\n",
    "len(data.loc[data['user_score'] == 'tbd'])"
   ]
  },
  {
   "cell_type": "markdown",
   "id": "42bc9691",
   "metadata": {},
   "source": [
    "Значений `tbd` слишком много чтобы просто их отбросить. Очень хочется заменить на нули, тк логика не нарушается: нет оценки - значит 0, но в столбце также присутствуют пропуски. Поэтому заменим tbd на пропуски, а тип данных в столбце изменим на float. Так как иначе статистика будет искажена, поскольку пропусков и значений `tbd` достаточно много."
   ]
  },
  {
   "cell_type": "code",
   "execution_count": 12,
   "id": "0148ccf7",
   "metadata": {},
   "outputs": [
    {
     "data": {
      "text/plain": [
       "array([8. , nan, 8.3, 8.5, 6.6, 8.4, 8.6, 7.7, 6.3, 7.4, 8.2, 9. , 7.9,\n",
       "       8.1, 8.7, 7.1, 3.4, 5.3, 4.8, 3.2, 8.9, 6.4, 7.8, 7.5, 2.6, 7.2,\n",
       "       9.2, 7. , 7.3, 4.3, 7.6, 5.7, 5. , 9.1, 6.5, 8.8, 6.9, 9.4, 6.8,\n",
       "       6.1, 6.7, 5.4, 4. , 4.9, 4.5, 9.3, 6.2, 4.2, 6. , 3.7, 4.1, 5.8,\n",
       "       5.6, 5.5, 4.4, 4.6, 5.9, 3.9, 3.1, 2.9, 5.2, 3.3, 4.7, 5.1, 3.5,\n",
       "       2.5, 1.9, 3. , 2.7, 2.2, 2. , 9.5, 2.1, 3.6, 2.8, 1.8, 3.8, 0. ,\n",
       "       1.6, 9.6, 2.4, 1.7, 1.1, 0.3, 1.5, 0.7, 1.2, 2.3, 0.5, 1.3, 0.2,\n",
       "       0.6, 1.4, 0.9, 1. , 9.7])"
      ]
     },
     "execution_count": 12,
     "metadata": {},
     "output_type": "execute_result"
    }
   ],
   "source": [
    "data['user_score'] = data['user_score'].replace(\"tbd\", np.nan).astype('float')\n",
    "data['user_score'].unique()"
   ]
  },
  {
   "cell_type": "code",
   "execution_count": 13,
   "id": "b21f8dbb",
   "metadata": {},
   "outputs": [],
   "source": [
    "data['critic_score'] = data['critic_score'].astype('float')"
   ]
  },
  {
   "cell_type": "code",
   "execution_count": 14,
   "id": "2249b484",
   "metadata": {},
   "outputs": [],
   "source": [
    "#Доля пропусков в столбце genre и name очень маленькая, так что без сожаления отбросим их\n",
    "data = data.dropna(subset = ['name', 'genre'])"
   ]
  },
  {
   "cell_type": "markdown",
   "id": "5f1c42fc",
   "metadata": {},
   "source": [
    "Доля пропусков в столбце `year_of_release` также не велика, но мы можем восполнить часть данных за счет того, что у некоторых игр указан год выхода только на одной из платформ. Думаю я не ошибусь и не сильно искажу данные, если буду считать, что раз игра выходит на PSV в 2012 году, то на остальные платформы она выходит в тот же год (как, например, в случае с игрой `LEGO Harry Potter: Years 5-7`)."
   ]
  },
  {
   "cell_type": "code",
   "execution_count": 15,
   "id": "e5e7ff56",
   "metadata": {},
   "outputs": [
    {
     "data": {
      "text/html": [
       "<div>\n",
       "<style scoped>\n",
       "    .dataframe tbody tr th:only-of-type {\n",
       "        vertical-align: middle;\n",
       "    }\n",
       "\n",
       "    .dataframe tbody tr th {\n",
       "        vertical-align: top;\n",
       "    }\n",
       "\n",
       "    .dataframe thead th {\n",
       "        text-align: right;\n",
       "    }\n",
       "</style>\n",
       "<table border=\"1\" class=\"dataframe\">\n",
       "  <thead>\n",
       "    <tr style=\"text-align: right;\">\n",
       "      <th></th>\n",
       "      <th>name</th>\n",
       "      <th>platform</th>\n",
       "      <th>year_of_release</th>\n",
       "      <th>genre</th>\n",
       "      <th>na_sales</th>\n",
       "      <th>eu_sales</th>\n",
       "      <th>jp_sales</th>\n",
       "      <th>other_sales</th>\n",
       "      <th>critic_score</th>\n",
       "      <th>user_score</th>\n",
       "      <th>rating</th>\n",
       "    </tr>\n",
       "  </thead>\n",
       "  <tbody>\n",
       "    <tr>\n",
       "      <th>1609</th>\n",
       "      <td>LEGO Harry Potter: Years 5-7</td>\n",
       "      <td>Wii</td>\n",
       "      <td>NaN</td>\n",
       "      <td>Action</td>\n",
       "      <td>0.69</td>\n",
       "      <td>0.42</td>\n",
       "      <td>0.0</td>\n",
       "      <td>0.12</td>\n",
       "      <td>76.0</td>\n",
       "      <td>7.8</td>\n",
       "      <td>E10+</td>\n",
       "    </tr>\n",
       "    <tr>\n",
       "      <th>2132</th>\n",
       "      <td>LEGO Harry Potter: Years 5-7</td>\n",
       "      <td>X360</td>\n",
       "      <td>NaN</td>\n",
       "      <td>Action</td>\n",
       "      <td>0.51</td>\n",
       "      <td>0.37</td>\n",
       "      <td>0.0</td>\n",
       "      <td>0.09</td>\n",
       "      <td>77.0</td>\n",
       "      <td>7.9</td>\n",
       "      <td>E10+</td>\n",
       "    </tr>\n",
       "    <tr>\n",
       "      <th>2273</th>\n",
       "      <td>LEGO Harry Potter: Years 5-7</td>\n",
       "      <td>PS3</td>\n",
       "      <td>NaN</td>\n",
       "      <td>Action</td>\n",
       "      <td>0.36</td>\n",
       "      <td>0.41</td>\n",
       "      <td>0.0</td>\n",
       "      <td>0.15</td>\n",
       "      <td>76.0</td>\n",
       "      <td>8.3</td>\n",
       "      <td>E10+</td>\n",
       "    </tr>\n",
       "    <tr>\n",
       "      <th>3081</th>\n",
       "      <td>LEGO Harry Potter: Years 5-7</td>\n",
       "      <td>DS</td>\n",
       "      <td>NaN</td>\n",
       "      <td>Action</td>\n",
       "      <td>0.34</td>\n",
       "      <td>0.25</td>\n",
       "      <td>0.0</td>\n",
       "      <td>0.07</td>\n",
       "      <td>69.0</td>\n",
       "      <td>NaN</td>\n",
       "      <td>E10+</td>\n",
       "    </tr>\n",
       "    <tr>\n",
       "      <th>4818</th>\n",
       "      <td>LEGO Harry Potter: Years 5-7</td>\n",
       "      <td>3DS</td>\n",
       "      <td>NaN</td>\n",
       "      <td>Action</td>\n",
       "      <td>0.18</td>\n",
       "      <td>0.19</td>\n",
       "      <td>0.0</td>\n",
       "      <td>0.03</td>\n",
       "      <td>71.0</td>\n",
       "      <td>6.5</td>\n",
       "      <td>E10+</td>\n",
       "    </tr>\n",
       "    <tr>\n",
       "      <th>6476</th>\n",
       "      <td>LEGO Harry Potter: Years 5-7</td>\n",
       "      <td>PSP</td>\n",
       "      <td>NaN</td>\n",
       "      <td>Action</td>\n",
       "      <td>0.10</td>\n",
       "      <td>0.10</td>\n",
       "      <td>0.0</td>\n",
       "      <td>0.06</td>\n",
       "      <td>NaN</td>\n",
       "      <td>NaN</td>\n",
       "      <td>E10+</td>\n",
       "    </tr>\n",
       "    <tr>\n",
       "      <th>7210</th>\n",
       "      <td>LEGO Harry Potter: Years 5-7</td>\n",
       "      <td>PC</td>\n",
       "      <td>NaN</td>\n",
       "      <td>Action</td>\n",
       "      <td>0.05</td>\n",
       "      <td>0.14</td>\n",
       "      <td>0.0</td>\n",
       "      <td>0.03</td>\n",
       "      <td>80.0</td>\n",
       "      <td>8.5</td>\n",
       "      <td>E10+</td>\n",
       "    </tr>\n",
       "    <tr>\n",
       "      <th>8059</th>\n",
       "      <td>LEGO Harry Potter: Years 5-7</td>\n",
       "      <td>PSV</td>\n",
       "      <td>2012.0</td>\n",
       "      <td>Action</td>\n",
       "      <td>0.07</td>\n",
       "      <td>0.07</td>\n",
       "      <td>0.0</td>\n",
       "      <td>0.03</td>\n",
       "      <td>64.0</td>\n",
       "      <td>6.8</td>\n",
       "      <td>E10+</td>\n",
       "    </tr>\n",
       "  </tbody>\n",
       "</table>\n",
       "</div>"
      ],
      "text/plain": [
       "                              name platform  year_of_release   genre  \\\n",
       "1609  LEGO Harry Potter: Years 5-7      Wii              NaN  Action   \n",
       "2132  LEGO Harry Potter: Years 5-7     X360              NaN  Action   \n",
       "2273  LEGO Harry Potter: Years 5-7      PS3              NaN  Action   \n",
       "3081  LEGO Harry Potter: Years 5-7       DS              NaN  Action   \n",
       "4818  LEGO Harry Potter: Years 5-7      3DS              NaN  Action   \n",
       "6476  LEGO Harry Potter: Years 5-7      PSP              NaN  Action   \n",
       "7210  LEGO Harry Potter: Years 5-7       PC              NaN  Action   \n",
       "8059  LEGO Harry Potter: Years 5-7      PSV           2012.0  Action   \n",
       "\n",
       "      na_sales  eu_sales  jp_sales  other_sales  critic_score  user_score  \\\n",
       "1609      0.69      0.42       0.0         0.12          76.0         7.8   \n",
       "2132      0.51      0.37       0.0         0.09          77.0         7.9   \n",
       "2273      0.36      0.41       0.0         0.15          76.0         8.3   \n",
       "3081      0.34      0.25       0.0         0.07          69.0         NaN   \n",
       "4818      0.18      0.19       0.0         0.03          71.0         6.5   \n",
       "6476      0.10      0.10       0.0         0.06           NaN         NaN   \n",
       "7210      0.05      0.14       0.0         0.03          80.0         8.5   \n",
       "8059      0.07      0.07       0.0         0.03          64.0         6.8   \n",
       "\n",
       "     rating  \n",
       "1609   E10+  \n",
       "2132   E10+  \n",
       "2273   E10+  \n",
       "3081   E10+  \n",
       "4818   E10+  \n",
       "6476   E10+  \n",
       "7210   E10+  \n",
       "8059   E10+  "
      ]
     },
     "execution_count": 15,
     "metadata": {},
     "output_type": "execute_result"
    }
   ],
   "source": [
    "data.loc[data['name'] == 'LEGO Harry Potter: Years 5-7']"
   ]
  },
  {
   "cell_type": "markdown",
   "id": "ade49511",
   "metadata": {},
   "source": [
    "Нужно написать функцию, которая будет искать в данных полные дубликаты по названию игры, у которых год выхода не NaN.\n",
    "\n",
    "Долго ломал голову как сделать это красиво, но время поджимает, так что буду делать грязь (прости)\n",
    "Логика такая: \n",
    "\n",
    "0. Заполняем пропуски нулями\n",
    "1. Создаем отдельный набор данных с названиями игр, у которых от сутствует дата выпуска (`no_yor`).\n",
    "2. Сделаем сделаем срез основного набора данных по названию каждой игры в которой не указана дата выхода.\n",
    "3. Уберем дубликаты из каждого среза.\n",
    "4. Те срезы, где после сброса дубликатов размер набора данных будет больше 1 (то есть игра выходиа на все платформы в разные года) отбросим.\n",
    "5. Из остальных вытащим название игры и год выпуска и положим в соответствующий список\n",
    "6. Создадим из этих списков набор данных\n",
    "7. Напишем конструкцию, которая будет искать названия игр из набора данных в п.6 и, если год выпуска пропущен, - заполнять его.\n",
    "\n",
    "С удовольствием приму совет как сделать это изящнее))"
   ]
  },
  {
   "cell_type": "code",
   "execution_count": 16,
   "id": "05faef1e",
   "metadata": {},
   "outputs": [],
   "source": [
    "data['year_of_release'] = data['year_of_release'].fillna(0).astype('int')\n",
    "no_yor = data.loc[data['year_of_release'] == 0, ['name', 'year_of_release']].reset_index(drop = True)\n",
    "\n",
    "names = []\n",
    "years = []\n",
    "for name in no_yor['name'].unique():\n",
    "    cut = data.loc[data['name'] == name, ['name', 'year_of_release']].drop_duplicates()\n",
    "    if len(cut.loc[cut['year_of_release'] != 0, ['year_of_release']]) > 1 or len(cut.loc[cut['year_of_release'] != 0, ['year_of_release']]) == 0:\n",
    "        continue\n",
    "    else:\n",
    "        cut = cut.loc[cut['year_of_release'] != 0, ['name', 'year_of_release']].reset_index(drop = True)\n",
    "        years.append(cut['year_of_release'][0])\n",
    "        names.append(cut['name'][0])\n",
    "        \n",
    "\n",
    "test = pd.DataFrame({\n",
    "    'name': names,\n",
    "    'year_of_release': years\n",
    "})"
   ]
  },
  {
   "cell_type": "code",
   "execution_count": 22,
   "id": "861e9fe3",
   "metadata": {
    "scrolled": false
   },
   "outputs": [
    {
     "data": {
      "text/html": [
       "<div>\n",
       "<style scoped>\n",
       "    .dataframe tbody tr th:only-of-type {\n",
       "        vertical-align: middle;\n",
       "    }\n",
       "\n",
       "    .dataframe tbody tr th {\n",
       "        vertical-align: top;\n",
       "    }\n",
       "\n",
       "    .dataframe thead th {\n",
       "        text-align: right;\n",
       "    }\n",
       "</style>\n",
       "<table border=\"1\" class=\"dataframe\">\n",
       "  <thead>\n",
       "    <tr style=\"text-align: right;\">\n",
       "      <th></th>\n",
       "      <th>Name</th>\n",
       "      <th>Platform</th>\n",
       "      <th>Year_of_Release</th>\n",
       "      <th>Genre</th>\n",
       "      <th>NA_sales</th>\n",
       "      <th>EU_sales</th>\n",
       "      <th>JP_sales</th>\n",
       "      <th>Other_sales</th>\n",
       "      <th>Critic_Score</th>\n",
       "      <th>User_Score</th>\n",
       "      <th>Rating</th>\n",
       "    </tr>\n",
       "  </thead>\n",
       "  <tbody>\n",
       "    <tr>\n",
       "      <th>0</th>\n",
       "      <td>Wii Sports</td>\n",
       "      <td>Wii</td>\n",
       "      <td>2006.0</td>\n",
       "      <td>Sports</td>\n",
       "      <td>41.36</td>\n",
       "      <td>28.96</td>\n",
       "      <td>3.77</td>\n",
       "      <td>8.45</td>\n",
       "      <td>76.0</td>\n",
       "      <td>8</td>\n",
       "      <td>E</td>\n",
       "    </tr>\n",
       "    <tr>\n",
       "      <th>1</th>\n",
       "      <td>Super Mario Bros.</td>\n",
       "      <td>NES</td>\n",
       "      <td>1985.0</td>\n",
       "      <td>Platform</td>\n",
       "      <td>29.08</td>\n",
       "      <td>3.58</td>\n",
       "      <td>6.81</td>\n",
       "      <td>0.77</td>\n",
       "      <td>NaN</td>\n",
       "      <td>NaN</td>\n",
       "      <td>NaN</td>\n",
       "    </tr>\n",
       "    <tr>\n",
       "      <th>2</th>\n",
       "      <td>Mario Kart Wii</td>\n",
       "      <td>Wii</td>\n",
       "      <td>2008.0</td>\n",
       "      <td>Racing</td>\n",
       "      <td>15.68</td>\n",
       "      <td>12.76</td>\n",
       "      <td>3.79</td>\n",
       "      <td>3.29</td>\n",
       "      <td>82.0</td>\n",
       "      <td>8.3</td>\n",
       "      <td>E</td>\n",
       "    </tr>\n",
       "    <tr>\n",
       "      <th>3</th>\n",
       "      <td>Wii Sports Resort</td>\n",
       "      <td>Wii</td>\n",
       "      <td>2009.0</td>\n",
       "      <td>Sports</td>\n",
       "      <td>15.61</td>\n",
       "      <td>10.93</td>\n",
       "      <td>3.28</td>\n",
       "      <td>2.95</td>\n",
       "      <td>80.0</td>\n",
       "      <td>8</td>\n",
       "      <td>E</td>\n",
       "    </tr>\n",
       "    <tr>\n",
       "      <th>4</th>\n",
       "      <td>Pokemon Red/Pokemon Blue</td>\n",
       "      <td>GB</td>\n",
       "      <td>1996.0</td>\n",
       "      <td>Role-Playing</td>\n",
       "      <td>11.27</td>\n",
       "      <td>8.89</td>\n",
       "      <td>10.22</td>\n",
       "      <td>1.00</td>\n",
       "      <td>NaN</td>\n",
       "      <td>NaN</td>\n",
       "      <td>NaN</td>\n",
       "    </tr>\n",
       "    <tr>\n",
       "      <th>5</th>\n",
       "      <td>Tetris</td>\n",
       "      <td>GB</td>\n",
       "      <td>1989.0</td>\n",
       "      <td>Puzzle</td>\n",
       "      <td>23.20</td>\n",
       "      <td>2.26</td>\n",
       "      <td>4.22</td>\n",
       "      <td>0.58</td>\n",
       "      <td>NaN</td>\n",
       "      <td>NaN</td>\n",
       "      <td>NaN</td>\n",
       "    </tr>\n",
       "    <tr>\n",
       "      <th>6</th>\n",
       "      <td>New Super Mario Bros.</td>\n",
       "      <td>DS</td>\n",
       "      <td>2006.0</td>\n",
       "      <td>Platform</td>\n",
       "      <td>11.28</td>\n",
       "      <td>9.14</td>\n",
       "      <td>6.50</td>\n",
       "      <td>2.88</td>\n",
       "      <td>89.0</td>\n",
       "      <td>8.5</td>\n",
       "      <td>E</td>\n",
       "    </tr>\n",
       "    <tr>\n",
       "      <th>7</th>\n",
       "      <td>Wii Play</td>\n",
       "      <td>Wii</td>\n",
       "      <td>2006.0</td>\n",
       "      <td>Misc</td>\n",
       "      <td>13.96</td>\n",
       "      <td>9.18</td>\n",
       "      <td>2.93</td>\n",
       "      <td>2.84</td>\n",
       "      <td>58.0</td>\n",
       "      <td>6.6</td>\n",
       "      <td>E</td>\n",
       "    </tr>\n",
       "    <tr>\n",
       "      <th>8</th>\n",
       "      <td>New Super Mario Bros. Wii</td>\n",
       "      <td>Wii</td>\n",
       "      <td>2009.0</td>\n",
       "      <td>Platform</td>\n",
       "      <td>14.44</td>\n",
       "      <td>6.94</td>\n",
       "      <td>4.70</td>\n",
       "      <td>2.24</td>\n",
       "      <td>87.0</td>\n",
       "      <td>8.4</td>\n",
       "      <td>E</td>\n",
       "    </tr>\n",
       "    <tr>\n",
       "      <th>9</th>\n",
       "      <td>Duck Hunt</td>\n",
       "      <td>NES</td>\n",
       "      <td>1984.0</td>\n",
       "      <td>Shooter</td>\n",
       "      <td>26.93</td>\n",
       "      <td>0.63</td>\n",
       "      <td>0.28</td>\n",
       "      <td>0.47</td>\n",
       "      <td>NaN</td>\n",
       "      <td>NaN</td>\n",
       "      <td>NaN</td>\n",
       "    </tr>\n",
       "  </tbody>\n",
       "</table>\n",
       "</div>"
      ],
      "text/plain": [
       "                        Name Platform  Year_of_Release         Genre  \\\n",
       "0                 Wii Sports      Wii           2006.0        Sports   \n",
       "1          Super Mario Bros.      NES           1985.0      Platform   \n",
       "2             Mario Kart Wii      Wii           2008.0        Racing   \n",
       "3          Wii Sports Resort      Wii           2009.0        Sports   \n",
       "4   Pokemon Red/Pokemon Blue       GB           1996.0  Role-Playing   \n",
       "5                     Tetris       GB           1989.0        Puzzle   \n",
       "6      New Super Mario Bros.       DS           2006.0      Platform   \n",
       "7                   Wii Play      Wii           2006.0          Misc   \n",
       "8  New Super Mario Bros. Wii      Wii           2009.0      Platform   \n",
       "9                  Duck Hunt      NES           1984.0       Shooter   \n",
       "\n",
       "   NA_sales  EU_sales  JP_sales  Other_sales  Critic_Score User_Score Rating  \n",
       "0     41.36     28.96      3.77         8.45          76.0          8      E  \n",
       "1     29.08      3.58      6.81         0.77           NaN        NaN    NaN  \n",
       "2     15.68     12.76      3.79         3.29          82.0        8.3      E  \n",
       "3     15.61     10.93      3.28         2.95          80.0          8      E  \n",
       "4     11.27      8.89     10.22         1.00           NaN        NaN    NaN  \n",
       "5     23.20      2.26      4.22         0.58           NaN        NaN    NaN  \n",
       "6     11.28      9.14      6.50         2.88          89.0        8.5      E  \n",
       "7     13.96      9.18      2.93         2.84          58.0        6.6      E  \n",
       "8     14.44      6.94      4.70         2.24          87.0        8.4      E  \n",
       "9     26.93      0.63      0.28         0.47           NaN        NaN    NaN  "
      ]
     },
     "execution_count": 22,
     "metadata": {},
     "output_type": "execute_result"
    }
   ],
   "source": [
    "#Импортируем и посмотрим на датасет\n",
    "try:\n",
    "    data = pd.read_csv('games.csv')\n",
    "except:\n",
    "    data = pd.read_csv('/datasets/games.csv')\n",
    "\n",
    "data.head(10)"
   ]
  },
  {
   "cell_type": "code",
   "execution_count": 24,
   "id": "ba88a195",
   "metadata": {},
   "outputs": [],
   "source": [
    "data.columns = data.columns.str.lower()"
   ]
  },
  {
   "cell_type": "code",
   "execution_count": 25,
   "id": "9e6cb2ef",
   "metadata": {
    "scrolled": true
   },
   "outputs": [],
   "source": [
    "games_name = data.loc[data['year_of_release'].isna()]['name'].unique()"
   ]
  },
  {
   "cell_type": "code",
   "execution_count": 26,
   "id": "ee398751",
   "metadata": {
    "scrolled": false
   },
   "outputs": [
    {
     "data": {
      "text/html": [
       "<div>\n",
       "<style scoped>\n",
       "    .dataframe tbody tr th:only-of-type {\n",
       "        vertical-align: middle;\n",
       "    }\n",
       "\n",
       "    .dataframe tbody tr th {\n",
       "        vertical-align: top;\n",
       "    }\n",
       "\n",
       "    .dataframe thead th {\n",
       "        text-align: right;\n",
       "    }\n",
       "</style>\n",
       "<table border=\"1\" class=\"dataframe\">\n",
       "  <thead>\n",
       "    <tr style=\"text-align: right;\">\n",
       "      <th></th>\n",
       "      <th>name</th>\n",
       "      <th>platform</th>\n",
       "      <th>year_of_release</th>\n",
       "      <th>genre</th>\n",
       "      <th>na_sales</th>\n",
       "      <th>eu_sales</th>\n",
       "      <th>jp_sales</th>\n",
       "      <th>other_sales</th>\n",
       "      <th>critic_score</th>\n",
       "      <th>user_score</th>\n",
       "      <th>rating</th>\n",
       "    </tr>\n",
       "  </thead>\n",
       "  <tbody>\n",
       "    <tr>\n",
       "      <th>32</th>\n",
       "      <td>Call of Duty: Black Ops</td>\n",
       "      <td>X360</td>\n",
       "      <td>2010.0</td>\n",
       "      <td>Shooter</td>\n",
       "      <td>9.70</td>\n",
       "      <td>3.68</td>\n",
       "      <td>0.11</td>\n",
       "      <td>1.13</td>\n",
       "      <td>87.0</td>\n",
       "      <td>6.3</td>\n",
       "      <td>M</td>\n",
       "    </tr>\n",
       "    <tr>\n",
       "      <th>41</th>\n",
       "      <td>Call of Duty: Black Ops</td>\n",
       "      <td>PS3</td>\n",
       "      <td>2010.0</td>\n",
       "      <td>Shooter</td>\n",
       "      <td>5.99</td>\n",
       "      <td>4.37</td>\n",
       "      <td>0.48</td>\n",
       "      <td>1.79</td>\n",
       "      <td>88.0</td>\n",
       "      <td>6.4</td>\n",
       "      <td>M</td>\n",
       "    </tr>\n",
       "    <tr>\n",
       "      <th>1131</th>\n",
       "      <td>Call of Duty: Black Ops</td>\n",
       "      <td>PC</td>\n",
       "      <td>NaN</td>\n",
       "      <td>Shooter</td>\n",
       "      <td>0.58</td>\n",
       "      <td>0.81</td>\n",
       "      <td>0.00</td>\n",
       "      <td>0.23</td>\n",
       "      <td>81.0</td>\n",
       "      <td>5.2</td>\n",
       "      <td>M</td>\n",
       "    </tr>\n",
       "    <tr>\n",
       "      <th>1412</th>\n",
       "      <td>Call of Duty: Black Ops</td>\n",
       "      <td>Wii</td>\n",
       "      <td>2010.0</td>\n",
       "      <td>Shooter</td>\n",
       "      <td>0.80</td>\n",
       "      <td>0.45</td>\n",
       "      <td>0.00</td>\n",
       "      <td>0.12</td>\n",
       "      <td>80.0</td>\n",
       "      <td>5.8</td>\n",
       "      <td>M</td>\n",
       "    </tr>\n",
       "    <tr>\n",
       "      <th>3439</th>\n",
       "      <td>Call of Duty: Black Ops</td>\n",
       "      <td>DS</td>\n",
       "      <td>2010.0</td>\n",
       "      <td>Shooter</td>\n",
       "      <td>0.50</td>\n",
       "      <td>0.04</td>\n",
       "      <td>0.00</td>\n",
       "      <td>0.04</td>\n",
       "      <td>74.0</td>\n",
       "      <td>6</td>\n",
       "      <td>T</td>\n",
       "    </tr>\n",
       "  </tbody>\n",
       "</table>\n",
       "</div>"
      ],
      "text/plain": [
       "                         name platform  year_of_release    genre  na_sales  \\\n",
       "32    Call of Duty: Black Ops     X360           2010.0  Shooter      9.70   \n",
       "41    Call of Duty: Black Ops      PS3           2010.0  Shooter      5.99   \n",
       "1131  Call of Duty: Black Ops       PC              NaN  Shooter      0.58   \n",
       "1412  Call of Duty: Black Ops      Wii           2010.0  Shooter      0.80   \n",
       "3439  Call of Duty: Black Ops       DS           2010.0  Shooter      0.50   \n",
       "\n",
       "      eu_sales  jp_sales  other_sales  critic_score user_score rating  \n",
       "32        3.68      0.11         1.13          87.0        6.3      M  \n",
       "41        4.37      0.48         1.79          88.0        6.4      M  \n",
       "1131      0.81      0.00         0.23          81.0        5.2      M  \n",
       "1412      0.45      0.00         0.12          80.0        5.8      M  \n",
       "3439      0.04      0.00         0.04          74.0          6      T  "
      ]
     },
     "execution_count": 26,
     "metadata": {},
     "output_type": "execute_result"
    }
   ],
   "source": [
    "data.loc[data['name'].isin(games_name)].loc[data['name'] == 'Call of Duty: Black Ops']"
   ]
  },
  {
   "cell_type": "code",
   "execution_count": 27,
   "id": "bf9dcd66",
   "metadata": {},
   "outputs": [
    {
     "name": "stderr",
     "output_type": "stream",
     "text": [
      "/tmp/ipykernel_67/1940496162.py:15: SettingWithCopyWarning: \n",
      "A value is trying to be set on a copy of a slice from a DataFrame.\n",
      "Try using .loc[row_indexer,col_indexer] = value instead\n",
      "\n",
      "See the caveats in the documentation: https://pandas.pydata.org/pandas-docs/stable/user_guide/indexing.html#returning-a-view-versus-a-copy\n",
      "  buffer['year_of_release'] = buffer['year_of_release'].fillna(buffer['year_of_release'].max())\n"
     ]
    }
   ],
   "source": [
    "MAX_UNIQUE_YEARS = 2\n",
    "MAX_DIFF_Y = 1\n",
    "\n",
    "result_df = pd.DataFrame()\n",
    "\n",
    "for game_name in games_name:\n",
    "    buffer = data.loc[data['name'] == game_name]\n",
    "    if buffer['year_of_release'].nunique() > MAX_UNIQUE_YEARS:\n",
    "        continue\n",
    "    nan_count = buffer['year_of_release'].isna().sum()\n",
    "    games_count = buffer['year_of_release'].count()\n",
    "    \n",
    "    \n",
    "    if (nan_count - games_count) <= MAX_DIFF_Y:\n",
    "        buffer['year_of_release'] = buffer['year_of_release'].fillna(buffer['year_of_release'].max())\n",
    "        result_df = pd.concat([result_df, buffer])\n",
    "    "
   ]
  },
  {
   "cell_type": "code",
   "execution_count": 29,
   "id": "efa7cbc7",
   "metadata": {},
   "outputs": [
    {
     "data": {
      "text/html": [
       "<div>\n",
       "<style scoped>\n",
       "    .dataframe tbody tr th:only-of-type {\n",
       "        vertical-align: middle;\n",
       "    }\n",
       "\n",
       "    .dataframe tbody tr th {\n",
       "        vertical-align: top;\n",
       "    }\n",
       "\n",
       "    .dataframe thead th {\n",
       "        text-align: right;\n",
       "    }\n",
       "</style>\n",
       "<table border=\"1\" class=\"dataframe\">\n",
       "  <thead>\n",
       "    <tr style=\"text-align: right;\">\n",
       "      <th></th>\n",
       "      <th>name</th>\n",
       "      <th>platform</th>\n",
       "      <th>year_of_release</th>\n",
       "      <th>genre</th>\n",
       "      <th>na_sales</th>\n",
       "      <th>eu_sales</th>\n",
       "      <th>jp_sales</th>\n",
       "      <th>other_sales</th>\n",
       "      <th>critic_score</th>\n",
       "      <th>user_score</th>\n",
       "      <th>rating</th>\n",
       "    </tr>\n",
       "  </thead>\n",
       "  <tbody>\n",
       "    <tr>\n",
       "      <th>183</th>\n",
       "      <td>Madden NFL 2004</td>\n",
       "      <td>PS2</td>\n",
       "      <td>2003.0</td>\n",
       "      <td>Sports</td>\n",
       "      <td>4.26</td>\n",
       "      <td>0.26</td>\n",
       "      <td>0.01</td>\n",
       "      <td>0.71</td>\n",
       "      <td>94.0</td>\n",
       "      <td>8.5</td>\n",
       "      <td>E</td>\n",
       "    </tr>\n",
       "    <tr>\n",
       "      <th>1881</th>\n",
       "      <td>Madden NFL 2004</td>\n",
       "      <td>XB</td>\n",
       "      <td>2003.0</td>\n",
       "      <td>Sports</td>\n",
       "      <td>1.02</td>\n",
       "      <td>0.02</td>\n",
       "      <td>0.00</td>\n",
       "      <td>0.05</td>\n",
       "      <td>92.0</td>\n",
       "      <td>8.3</td>\n",
       "      <td>E</td>\n",
       "    </tr>\n",
       "    <tr>\n",
       "      <th>3889</th>\n",
       "      <td>Madden NFL 2004</td>\n",
       "      <td>GC</td>\n",
       "      <td>2003.0</td>\n",
       "      <td>Sports</td>\n",
       "      <td>0.40</td>\n",
       "      <td>0.10</td>\n",
       "      <td>0.00</td>\n",
       "      <td>0.01</td>\n",
       "      <td>94.0</td>\n",
       "      <td>7.7</td>\n",
       "      <td>E</td>\n",
       "    </tr>\n",
       "    <tr>\n",
       "      <th>5708</th>\n",
       "      <td>Madden NFL 2004</td>\n",
       "      <td>GBA</td>\n",
       "      <td>2003.0</td>\n",
       "      <td>Sports</td>\n",
       "      <td>0.22</td>\n",
       "      <td>0.08</td>\n",
       "      <td>0.00</td>\n",
       "      <td>0.01</td>\n",
       "      <td>70.0</td>\n",
       "      <td>6.6</td>\n",
       "      <td>E</td>\n",
       "    </tr>\n",
       "    <tr>\n",
       "      <th>377</th>\n",
       "      <td>FIFA Soccer 2004</td>\n",
       "      <td>PS2</td>\n",
       "      <td>2003.0</td>\n",
       "      <td>Sports</td>\n",
       "      <td>0.59</td>\n",
       "      <td>2.36</td>\n",
       "      <td>0.04</td>\n",
       "      <td>0.51</td>\n",
       "      <td>84.0</td>\n",
       "      <td>6.4</td>\n",
       "      <td>E</td>\n",
       "    </tr>\n",
       "    <tr>\n",
       "      <th>...</th>\n",
       "      <td>...</td>\n",
       "      <td>...</td>\n",
       "      <td>...</td>\n",
       "      <td>...</td>\n",
       "      <td>...</td>\n",
       "      <td>...</td>\n",
       "      <td>...</td>\n",
       "      <td>...</td>\n",
       "      <td>...</td>\n",
       "      <td>...</td>\n",
       "      <td>...</td>\n",
       "    </tr>\n",
       "    <tr>\n",
       "      <th>16405</th>\n",
       "      <td>Freaky Flyers</td>\n",
       "      <td>GC</td>\n",
       "      <td>2003.0</td>\n",
       "      <td>Racing</td>\n",
       "      <td>0.01</td>\n",
       "      <td>0.00</td>\n",
       "      <td>0.00</td>\n",
       "      <td>0.00</td>\n",
       "      <td>69.0</td>\n",
       "      <td>6.5</td>\n",
       "      <td>T</td>\n",
       "    </tr>\n",
       "    <tr>\n",
       "      <th>12146</th>\n",
       "      <td>Inversion</td>\n",
       "      <td>PS3</td>\n",
       "      <td>2012.0</td>\n",
       "      <td>Shooter</td>\n",
       "      <td>0.03</td>\n",
       "      <td>0.03</td>\n",
       "      <td>0.00</td>\n",
       "      <td>0.01</td>\n",
       "      <td>56.0</td>\n",
       "      <td>5.4</td>\n",
       "      <td>M</td>\n",
       "    </tr>\n",
       "    <tr>\n",
       "      <th>12678</th>\n",
       "      <td>Inversion</td>\n",
       "      <td>X360</td>\n",
       "      <td>2012.0</td>\n",
       "      <td>Shooter</td>\n",
       "      <td>0.03</td>\n",
       "      <td>0.02</td>\n",
       "      <td>0.00</td>\n",
       "      <td>0.01</td>\n",
       "      <td>53.0</td>\n",
       "      <td>6.5</td>\n",
       "      <td>M</td>\n",
       "    </tr>\n",
       "    <tr>\n",
       "      <th>16448</th>\n",
       "      <td>Inversion</td>\n",
       "      <td>PC</td>\n",
       "      <td>2012.0</td>\n",
       "      <td>Shooter</td>\n",
       "      <td>0.01</td>\n",
       "      <td>0.00</td>\n",
       "      <td>0.00</td>\n",
       "      <td>0.00</td>\n",
       "      <td>59.0</td>\n",
       "      <td>6.7</td>\n",
       "      <td>M</td>\n",
       "    </tr>\n",
       "    <tr>\n",
       "      <th>16458</th>\n",
       "      <td>Hakuouki: Shinsengumi Kitan</td>\n",
       "      <td>PS3</td>\n",
       "      <td>NaN</td>\n",
       "      <td>Adventure</td>\n",
       "      <td>0.01</td>\n",
       "      <td>0.00</td>\n",
       "      <td>0.00</td>\n",
       "      <td>0.00</td>\n",
       "      <td>NaN</td>\n",
       "      <td>NaN</td>\n",
       "      <td>NaN</td>\n",
       "    </tr>\n",
       "  </tbody>\n",
       "</table>\n",
       "<p>420 rows × 11 columns</p>\n",
       "</div>"
      ],
      "text/plain": [
       "                              name platform  year_of_release      genre  \\\n",
       "183                Madden NFL 2004      PS2           2003.0     Sports   \n",
       "1881               Madden NFL 2004       XB           2003.0     Sports   \n",
       "3889               Madden NFL 2004       GC           2003.0     Sports   \n",
       "5708               Madden NFL 2004      GBA           2003.0     Sports   \n",
       "377               FIFA Soccer 2004      PS2           2003.0     Sports   \n",
       "...                            ...      ...              ...        ...   \n",
       "16405                Freaky Flyers       GC           2003.0     Racing   \n",
       "12146                    Inversion      PS3           2012.0    Shooter   \n",
       "12678                    Inversion     X360           2012.0    Shooter   \n",
       "16448                    Inversion       PC           2012.0    Shooter   \n",
       "16458  Hakuouki: Shinsengumi Kitan      PS3              NaN  Adventure   \n",
       "\n",
       "       na_sales  eu_sales  jp_sales  other_sales  critic_score user_score  \\\n",
       "183        4.26      0.26      0.01         0.71          94.0        8.5   \n",
       "1881       1.02      0.02      0.00         0.05          92.0        8.3   \n",
       "3889       0.40      0.10      0.00         0.01          94.0        7.7   \n",
       "5708       0.22      0.08      0.00         0.01          70.0        6.6   \n",
       "377        0.59      2.36      0.04         0.51          84.0        6.4   \n",
       "...         ...       ...       ...          ...           ...        ...   \n",
       "16405      0.01      0.00      0.00         0.00          69.0        6.5   \n",
       "12146      0.03      0.03      0.00         0.01          56.0        5.4   \n",
       "12678      0.03      0.02      0.00         0.01          53.0        6.5   \n",
       "16448      0.01      0.00      0.00         0.00          59.0        6.7   \n",
       "16458      0.01      0.00      0.00         0.00           NaN        NaN   \n",
       "\n",
       "      rating  \n",
       "183        E  \n",
       "1881       E  \n",
       "3889       E  \n",
       "5708       E  \n",
       "377        E  \n",
       "...      ...  \n",
       "16405      T  \n",
       "12146      M  \n",
       "12678      M  \n",
       "16448      M  \n",
       "16458    NaN  \n",
       "\n",
       "[420 rows x 11 columns]"
      ]
     },
     "execution_count": 29,
     "metadata": {},
     "output_type": "execute_result"
    }
   ],
   "source": [
    "result_df.drop_duplicates()"
   ]
  },
  {
   "cell_type": "code",
   "execution_count": 37,
   "id": "e47ca606",
   "metadata": {
    "scrolled": true
   },
   "outputs": [
    {
     "data": {
      "text/html": [
       "<div>\n",
       "<style scoped>\n",
       "    .dataframe tbody tr th:only-of-type {\n",
       "        vertical-align: middle;\n",
       "    }\n",
       "\n",
       "    .dataframe tbody tr th {\n",
       "        vertical-align: top;\n",
       "    }\n",
       "\n",
       "    .dataframe thead th {\n",
       "        text-align: right;\n",
       "    }\n",
       "</style>\n",
       "<table border=\"1\" class=\"dataframe\">\n",
       "  <thead>\n",
       "    <tr style=\"text-align: right;\">\n",
       "      <th></th>\n",
       "      <th>platform</th>\n",
       "    </tr>\n",
       "    <tr>\n",
       "      <th>name</th>\n",
       "      <th></th>\n",
       "    </tr>\n",
       "  </thead>\n",
       "  <tbody>\n",
       "    <tr>\n",
       "      <th>Madden NFL 07</th>\n",
       "      <td>9</td>\n",
       "    </tr>\n",
       "    <tr>\n",
       "      <th>LEGO Batman: The Videogame</th>\n",
       "      <td>7</td>\n",
       "    </tr>\n",
       "    <tr>\n",
       "      <th>LEGO Indiana Jones: The Original Adventures</th>\n",
       "      <td>7</td>\n",
       "    </tr>\n",
       "    <tr>\n",
       "      <th>Madden NFL 06</th>\n",
       "      <td>7</td>\n",
       "    </tr>\n",
       "    <tr>\n",
       "      <th>Tiger Woods PGA Tour 07</th>\n",
       "      <td>6</td>\n",
       "    </tr>\n",
       "    <tr>\n",
       "      <th>...</th>\n",
       "      <td>...</td>\n",
       "    </tr>\n",
       "    <tr>\n",
       "      <th>Face Racers: Photo Finish</th>\n",
       "      <td>1</td>\n",
       "    </tr>\n",
       "    <tr>\n",
       "      <th>NFL GameDay 2003</th>\n",
       "      <td>1</td>\n",
       "    </tr>\n",
       "    <tr>\n",
       "      <th>Famista 64</th>\n",
       "      <td>1</td>\n",
       "    </tr>\n",
       "    <tr>\n",
       "      <th>Ferrari: The Race Experience</th>\n",
       "      <td>1</td>\n",
       "    </tr>\n",
       "    <tr>\n",
       "      <th>wwe Smackdown vs. Raw 2006</th>\n",
       "      <td>1</td>\n",
       "    </tr>\n",
       "  </tbody>\n",
       "</table>\n",
       "<p>216 rows × 1 columns</p>\n",
       "</div>"
      ],
      "text/plain": [
       "                                             platform\n",
       "name                                                 \n",
       "Madden NFL 07                                       9\n",
       "LEGO Batman: The Videogame                          7\n",
       "LEGO Indiana Jones: The Original Adventures         7\n",
       "Madden NFL 06                                       7\n",
       "Tiger Woods PGA Tour 07                             6\n",
       "...                                               ...\n",
       "Face Racers: Photo Finish                           1\n",
       "NFL GameDay 2003                                    1\n",
       "Famista 64                                          1\n",
       "Ferrari: The Race Experience                        1\n",
       "wwe Smackdown vs. Raw 2006                          1\n",
       "\n",
       "[216 rows x 1 columns]"
      ]
     },
     "execution_count": 37,
     "metadata": {},
     "output_type": "execute_result"
    }
   ],
   "source": [
    "result_df.pivot_table(index='name', values='platform',aggfunc='count').sort_values(by='platform',ascending=False)"
   ]
  },
  {
   "cell_type": "code",
   "execution_count": 39,
   "id": "f83a9b8d",
   "metadata": {},
   "outputs": [
    {
     "data": {
      "text/html": [
       "<div>\n",
       "<style scoped>\n",
       "    .dataframe tbody tr th:only-of-type {\n",
       "        vertical-align: middle;\n",
       "    }\n",
       "\n",
       "    .dataframe tbody tr th {\n",
       "        vertical-align: top;\n",
       "    }\n",
       "\n",
       "    .dataframe thead th {\n",
       "        text-align: right;\n",
       "    }\n",
       "</style>\n",
       "<table border=\"1\" class=\"dataframe\">\n",
       "  <thead>\n",
       "    <tr style=\"text-align: right;\">\n",
       "      <th></th>\n",
       "      <th>platform</th>\n",
       "    </tr>\n",
       "    <tr>\n",
       "      <th>name</th>\n",
       "      <th></th>\n",
       "    </tr>\n",
       "  </thead>\n",
       "  <tbody>\n",
       "    <tr>\n",
       "      <th>LEGO Harry Potter: Years 5-7</th>\n",
       "      <td>7</td>\n",
       "    </tr>\n",
       "    <tr>\n",
       "      <th>Rock Band</th>\n",
       "      <td>4</td>\n",
       "    </tr>\n",
       "    <tr>\n",
       "      <th>Happy Feet Two</th>\n",
       "      <td>4</td>\n",
       "    </tr>\n",
       "    <tr>\n",
       "      <th>WRC: FIA World Rally Championship</th>\n",
       "      <td>3</td>\n",
       "    </tr>\n",
       "    <tr>\n",
       "      <th>Test Drive Unlimited 2</th>\n",
       "      <td>3</td>\n",
       "    </tr>\n",
       "    <tr>\n",
       "      <th>...</th>\n",
       "      <td>...</td>\n",
       "    </tr>\n",
       "    <tr>\n",
       "      <th>Indy 500</th>\n",
       "      <td>1</td>\n",
       "    </tr>\n",
       "    <tr>\n",
       "      <th>Inversion</th>\n",
       "      <td>1</td>\n",
       "    </tr>\n",
       "    <tr>\n",
       "      <th>James Cameron's Dark Angel</th>\n",
       "      <td>1</td>\n",
       "    </tr>\n",
       "    <tr>\n",
       "      <th>Jet Impulse</th>\n",
       "      <td>1</td>\n",
       "    </tr>\n",
       "    <tr>\n",
       "      <th>wwe Smackdown vs. Raw 2006</th>\n",
       "      <td>1</td>\n",
       "    </tr>\n",
       "  </tbody>\n",
       "</table>\n",
       "<p>232 rows × 1 columns</p>\n",
       "</div>"
      ],
      "text/plain": [
       "                                   platform\n",
       "name                                       \n",
       "LEGO Harry Potter: Years 5-7              7\n",
       "Rock Band                                 4\n",
       "Happy Feet Two                            4\n",
       "WRC: FIA World Rally Championship         3\n",
       "Test Drive Unlimited 2                    3\n",
       "...                                     ...\n",
       "Indy 500                                  1\n",
       "Inversion                                 1\n",
       "James Cameron's Dark Angel                1\n",
       "Jet Impulse                               1\n",
       "wwe Smackdown vs. Raw 2006                1\n",
       "\n",
       "[232 rows x 1 columns]"
      ]
     },
     "execution_count": 39,
     "metadata": {},
     "output_type": "execute_result"
    }
   ],
   "source": [
    "data.loc[data['year_of_release'].isna()].pivot_table(\n",
    "    index='name', \n",
    "    values='platform',\n",
    "    aggfunc='count',\n",
    ").sort_values(by='platform',ascending=False)"
   ]
  },
  {
   "cell_type": "code",
   "execution_count": null,
   "id": "51a5458f",
   "metadata": {
    "scrolled": true
   },
   "outputs": [],
   "source": [
    "for i in range(0, len(data)):\n",
    "    if data['year_of_release'][i] == 0:\n",
    "        for j in range(0, len(test)):\n",
    "            if data['name'][i] == test['name'][j]:\n",
    "                data['year_of_release'][i] = test['year_of_release'][j]\n",
    "            else:\n",
    "                continue\n",
    "    else:\n",
    "        continue"
   ]
  },
  {
   "cell_type": "code",
   "execution_count": null,
   "id": "fbbc231f",
   "metadata": {},
   "outputs": [],
   "source": [
    "#Добавим колонку с общими продажами\n",
    "data['total_sales'] = data['na_sales'] + data['eu_sales'] + data['jp_sales'] + data['other_sales']"
   ]
  },
  {
   "cell_type": "markdown",
   "id": "dffd97c0",
   "metadata": {},
   "source": [
    "### 2. Исследовательский анализ данных"
   ]
  },
  {
   "cell_type": "code",
   "execution_count": null,
   "id": "09815bc3",
   "metadata": {},
   "outputs": [],
   "source": [
    "#Посмотрим сколько игр выпускалось в разные годы\n",
    "(data\n",
    "     .loc[data['year_of_release'] != 0]\n",
    "     .pivot_table(index = 'year_of_release', values = 'total_sales', aggfunc = 'count')\n",
    "     .reset_index()\n",
    "     .plot(x = 'year_of_release', \n",
    "           kind = 'bar', \n",
    "           title = 'Распределение продаж игр по годам',\n",
    "           label = 'Количество вышедщих игр',\n",
    "           figsize = (20, 7))\n",
    ")"
   ]
  },
  {
   "cell_type": "markdown",
   "id": "a413170a",
   "metadata": {},
   "source": [
    "На графике видно две точки роста игровой индустрии: с **1994 г.** и с **2000 г.** С 2010 года продажи заметно падают.\n",
    "\n",
    "Оставим данные начиная с **2000 года**:"
   ]
  },
  {
   "cell_type": "code",
   "execution_count": null,
   "id": "17b75a24",
   "metadata": {},
   "outputs": [],
   "source": [
    "data = data.loc[data['year_of_release'] >= 2000]"
   ]
  },
  {
   "cell_type": "markdown",
   "id": "3d2d29c6",
   "metadata": {},
   "source": [
    "Посмотрим, как менялись продажи по платформам."
   ]
  },
  {
   "cell_type": "code",
   "execution_count": null,
   "id": "a4cd16e5",
   "metadata": {},
   "outputs": [],
   "source": [
    "#Выберем платформы с самым большим количеством продаж\n",
    "(data\n",
    "    .pivot_table(index = 'platform', values = 'total_sales', aggfunc = 'sum')\n",
    "    .sort_values(by = 'total_sales', ascending = True)\n",
    "    .reset_index()\n",
    "    .plot(x = 'platform', \n",
    "           kind = 'bar', \n",
    "           title = 'Распределение продаж игр по платформам',\n",
    "           label = 'Количество вышедщих игр',\n",
    "           figsize = (20, 7))\n",
    ") "
   ]
  },
  {
   "cell_type": "markdown",
   "id": "b944bf89",
   "metadata": {},
   "source": [
    "На графике видно, что наиболее популярные платформы начинаются с XB (X-Box). Новые платформы, такие как XOne и PS4 имеют значительно меньшее количество проданных игр. Это связано как и с относительно недавней датой выхода платформы, так и с тем, что в целом, рынок видеоигр падает, начиная с 2010 года и количество выпускаемых игр снижается.\n",
    "\n",
    "Лидерами по продажам являются платформы:\n",
    "- PS2\n",
    "- X-Box 360\n",
    "- PS3\n",
    "- Nintendo Wii\n",
    "- Nintendo DS"
   ]
  },
  {
   "cell_type": "code",
   "execution_count": null,
   "id": "cb88e149",
   "metadata": {},
   "outputs": [],
   "source": [
    "platform_data = (data\n",
    "                 .pivot_table(index = 'platform', columns = 'year_of_release', values = 'total_sales', aggfunc = 'sum')\n",
    "                )\n",
    "\n",
    "\n",
    "fig, ax = plt.subplots(figsize=(20, 7))\n",
    "ax.xaxis.tick_top()\n",
    "\n",
    "sns.heatmap(platform_data, ax = ax,  annot = True, fmt=\".0f\", cmap=\"crest\")"
   ]
  },
  {
   "cell_type": "markdown",
   "id": "7f24b6a9",
   "metadata": {},
   "source": [
    "На графике видно, что в основном, популярные платформы живут в среднем по 7-8 лет. По истечении этого периода, появляется новая, более современная платформа, и интерес к предыдущей версии начинает заметно снижаться.\n",
    "\n",
    "Топ самых популярных платформ составляют приставки Sony, Microsoft и Nintendo. Рассмотрим подробнее как год от года менялось количество проданных игр у каждой из платформ в каждом семействе, и как менялся спрос на старые модели с выходом более современных."
   ]
  },
  {
   "cell_type": "code",
   "execution_count": null,
   "id": "b35251e2",
   "metadata": {},
   "outputs": [],
   "source": [
    "data_ps = (data\n",
    "               .loc[(data['platform'] == 'PS2') | \n",
    "                    (data['platform'] == 'PS3') | \n",
    "                    (data['platform'] == 'PS4')]\n",
    "               .pivot_table(index = 'platform', columns = 'year_of_release', values = 'total_sales', aggfunc = 'sum')\n",
    "          )\n",
    "\n",
    "data_ps"
   ]
  },
  {
   "cell_type": "code",
   "execution_count": null,
   "id": "ad5afb3f",
   "metadata": {},
   "outputs": [],
   "source": [
    "#Приставки Microsoft\n",
    "data_mic = (data\n",
    "               .loc[(data['platform'] == 'XB') | \n",
    "                    (data['platform'] == 'X360') | \n",
    "                    (data['platform'] == 'XOne')]\n",
    "               .pivot_table(index = 'platform', columns = 'year_of_release', values = 'total_sales', aggfunc = 'sum')\n",
    "               .reindex(['XB', 'X360', 'XOne'])\n",
    "          )\n",
    "\n",
    "data_mic"
   ]
  },
  {
   "cell_type": "code",
   "execution_count": null,
   "id": "7edd2421",
   "metadata": {},
   "outputs": [],
   "source": [
    "data_nintendo = (data\n",
    "               .loc[(data['platform'] == 'DS') | \n",
    "                    (data['platform'] == '3DS')| \n",
    "                    (data['platform'] == 'Wii') | \n",
    "                    (data['platform'] == 'WiiU')]\n",
    "               .pivot_table(index = 'platform', columns = 'year_of_release', values = 'total_sales', aggfunc = 'sum')\n",
    "               .reindex(['DS', 'Wii', '3DS', 'WiiU'])\n",
    "          )\n",
    "data_nintendo"
   ]
  },
  {
   "cell_type": "code",
   "execution_count": null,
   "id": "7f826a6d",
   "metadata": {},
   "outputs": [],
   "source": [
    "for data_cut in [data_ps, data_mic, data_nintendo]:\n",
    "    fig, ax = plt.subplots(figsize = (20, 3))\n",
    "    if 'PS' in data_cut.index.all():\n",
    "        title ='Продажи игр на платформах Play Station'\n",
    "    elif 'X' in data_cut.index.all():\n",
    "        title ='Продажи игр на платформах X-Box'\n",
    "    else:\n",
    "        title = 'Продажи игр на платформах Nintendo'\n",
    "    ax.set_title(title, size = 15)\n",
    "    ax.set_xlabel('Год')\n",
    "    ax.set_ylabel('Количество проданных игр, млн.копий')\n",
    "    ax = sns.heatmap(data_cut,\n",
    "                     annot = True, \n",
    "                     fmt=\".0f\", \n",
    "                     cmap=\"crest\")\n",
    "#Почему-то не добавляются подписи осей. Ну лан"
   ]
  },
  {
   "cell_type": "markdown",
   "id": "5b090e44",
   "metadata": {},
   "source": [
    "Видно, что c выходом новых платформ, старые теряют популярность, при этом новые платформы с годами не так популярны, чем их предшественники. Это связано с тем, что продажи игр падают по всем платформам, начиная с 2010 года.\n",
    "\n",
    "Наиболее популярными являются платформы Sony. Далее следуют платформы Nintendo, а затем платформы Microsoft. Причем последняя приставка Sony показывают лучший результат по продажам, чем последние приставки Microsoft и Nintendo вместе взятые."
   ]
  },
  {
   "cell_type": "code",
   "execution_count": null,
   "id": "a12671e5",
   "metadata": {},
   "outputs": [],
   "source": [
    "fig, ax = plt.subplots(figsize = (20, 10))\n",
    "ax.set(ylim=(0, 2))\n",
    "ax.set_title('Количество продаж по платформам', size = 20)\n",
    "sns.boxplot(data = data, x = 'platform', y = 'total_sales')"
   ]
  },
  {
   "cell_type": "code",
   "execution_count": null,
   "id": "676017d7",
   "metadata": {
    "scrolled": true
   },
   "outputs": [],
   "source": [
    "len(data.loc[data['platform'] =='GB'])"
   ]
  },
  {
   "cell_type": "markdown",
   "id": "b0806002",
   "metadata": {},
   "source": [
    "Видим много выбросов практически у всех платформ. Выбросы - это игры, которые продались болшим тиражом.Больше всего таких игр у платформ Nintendo.\n",
    "\n",
    "Медианные продажи у консолей выше, чем у PC. Самые большие медианные продажи у X-Box 360 и PS3.\n",
    "Самые большие медианные продажи у платформы Game Boy, однако их всего 27 в этом наборе данных.\n",
    "Разобьем платформы по семействам и сравним в продажи в каждом семействе платформ:"
   ]
  },
  {
   "cell_type": "code",
   "execution_count": null,
   "id": "708f27e8",
   "metadata": {},
   "outputs": [],
   "source": [
    "def get_platform_family(row):\n",
    "    if 'PS' in row:\n",
    "        return 'Sony'\n",
    "    elif 'X' in row:\n",
    "        return 'Microsoft'\n",
    "    elif ('Wii' in row) or ('DS' in row) or ('3DS' in row):\n",
    "        return 'Nintendo'\n",
    "    elif row == 'PC':\n",
    "        return 'PC'\n",
    "    else:\n",
    "        return 'idk'\n",
    "\n",
    "data['platform_family'] = data['platform'].apply(get_platform_family)\n",
    "\n",
    "fig, ax = plt.subplots(figsize = (20, 10))\n",
    "ax.set(ylim=(0, 1.5))\n",
    "ax.set_title('Количество продаж по семействам платформ', size = 20)\n",
    "sns.boxplot(data = data, x = 'platform_family', y = 'total_sales')"
   ]
  },
  {
   "cell_type": "markdown",
   "id": "6599417b",
   "metadata": {},
   "source": [
    "Медианные продажи приставок Microsoft самые высокие. У Nintendo есть какая-то супер выстрелившая игра (наверное какой-нибудь марио), а PC игроки, похоже не очень любят покупать игры 🏴‍☠️🏴‍☠️🏴‍☠️"
   ]
  },
  {
   "cell_type": "markdown",
   "id": "f137641e",
   "metadata": {},
   "source": [
    "Посмотрим, как влияют на продажи внутри одной популярной платформы отзывы пользователей и критиков. Рассмотрим PS3:"
   ]
  },
  {
   "cell_type": "code",
   "execution_count": null,
   "id": "f8eac874",
   "metadata": {},
   "outputs": [],
   "source": [
    "sns.pairplot(data.loc[data['platform'] == \"PS3\"][['total_sales', 'critic_score', 'user_score']])\n",
    "plt.show()"
   ]
  },
  {
   "cell_type": "markdown",
   "id": "51ce5df8",
   "metadata": {},
   "source": [
    "Видно, что оценки критиков достаточно сильно влияют на продажи игр на PS3, а оценки игроков наоборот, практически не оказывают никакого влияния на продажи. Однако есть игры, имеющие высокие оценки от игроков, но не имеющие такого количества продаж, как игры, высоко оцененные критиками. \n",
    "\n",
    "Оценки игр критиками и игроками весьма сильно зависят друг от друга. Это разумно. Хорошую игру одинаково хвалят критики и игроки."
   ]
  },
  {
   "cell_type": "code",
   "execution_count": null,
   "id": "9bbba356",
   "metadata": {},
   "outputs": [],
   "source": [
    "data.loc[data['platform'] == \"PS3\"][['total_sales', 'critic_score', 'user_score']].corr()"
   ]
  },
  {
   "cell_type": "markdown",
   "id": "b1307555",
   "metadata": {},
   "source": [
    "Значения коэффициентов коррелиции Пирсона подтверждают выводы выше."
   ]
  },
  {
   "cell_type": "markdown",
   "id": "0951b0ab",
   "metadata": {},
   "source": [
    "Оценим распределение игр по жанрам:"
   ]
  },
  {
   "cell_type": "code",
   "execution_count": null,
   "id": "60de3d60",
   "metadata": {},
   "outputs": [],
   "source": [
    "genre_data = (data\n",
    "                  .pivot_table(index = 'genre', values = 'total_sales', aggfunc = 'sum')\n",
    "                  .sort_values('total_sales' ,ascending = False)\n",
    "                  .reset_index()\n",
    "             )\n",
    "\n",
    "fig, ax = plt.subplots(figsize = (20, 7))\n",
    "ax.set_title('Распределение продаж игр по жарнам', size = 20)\n",
    "sns.barplot(\n",
    "    data=genre_data,\n",
    "    x = 'genre', \n",
    "    y='total_sales',\n",
    "    palette=\"pastel\", \n",
    "    edgecolor=\".6\"\n",
    ")"
   ]
  },
  {
   "cell_type": "markdown",
   "id": "307dd5a6",
   "metadata": {},
   "source": [
    "Пять самых популярных жанров:\n",
    "* Action\n",
    "* Sports\n",
    "* Shooter\n",
    "* Role - Playing\n",
    "* Misc"
   ]
  },
  {
   "cell_type": "markdown",
   "id": "90e6b407",
   "metadata": {},
   "source": [
    "### 3. Портрет пользователя каждого региона"
   ]
  },
  {
   "cell_type": "code",
   "execution_count": null,
   "id": "ce11b454",
   "metadata": {},
   "outputs": [],
   "source": [
    "#Топ 5 платформ:\n",
    "NA_plt = (data\n",
    "              .pivot_table(index = 'platform', values = 'na_sales', aggfunc = 'sum')\n",
    "              .sort_values('na_sales', ascending = False)\n",
    "              .head(5)\n",
    "              .reset_index())\n",
    "\n",
    "EU_plt = (data\n",
    "              .pivot_table(index = 'platform', values = 'eu_sales', aggfunc = 'sum')\n",
    "              .sort_values('eu_sales', ascending = False)\n",
    "              .head(5)\n",
    "              .reset_index())\n",
    "\n",
    "JP_plt = (data\n",
    "              .pivot_table(index = 'platform', values = 'jp_sales', aggfunc = 'sum')\n",
    "              .sort_values('jp_sales', ascending = False)\n",
    "              .head(5)\n",
    "              .reset_index())"
   ]
  },
  {
   "cell_type": "code",
   "execution_count": null,
   "id": "d8e029a7",
   "metadata": {},
   "outputs": [],
   "source": [
    "#Топ 5 жанров:\n",
    "NA_gnr = (data\n",
    "              .pivot_table(index = 'genre', values = 'na_sales', aggfunc = 'sum')\n",
    "              .sort_values('na_sales', ascending = False)\n",
    "              .head(5)\n",
    "              .reset_index())\n",
    "\n",
    "EU_gnr = (data\n",
    "              .pivot_table(index = 'genre', values = 'eu_sales', aggfunc = 'sum')\n",
    "              .sort_values('eu_sales', ascending = False)\n",
    "              .head(5)\n",
    "              .reset_index())\n",
    "\n",
    "JP_gnr = (data\n",
    "              .pivot_table(index = 'genre', values = 'jp_sales', aggfunc = 'sum')\n",
    "              .sort_values('jp_sales', ascending = False)\n",
    "              .head(5)\n",
    "              .reset_index())"
   ]
  },
  {
   "cell_type": "code",
   "execution_count": null,
   "id": "680f5740",
   "metadata": {},
   "outputs": [],
   "source": [
    "#Платформы\n",
    "fig, (ax1, ax2, ax3) = plt.subplots(1, 3, figsize=(20, 5))\n",
    "\n",
    "ax1.bar(NA_plt['platform'], NA_plt['na_sales'])\n",
    "ax1.set_title(\"Северная Америка\", size = 15)\n",
    "ax1.set_ylim([0, 700])\n",
    "\n",
    "ax2.bar(EU_plt['platform'], EU_plt['eu_sales'])\n",
    "ax2.set_title(\"Европа\", size = 15)\n",
    "ax2.set_ylim([0, 700])\n",
    "\n",
    "ax3.bar(JP_plt['platform'], JP_plt['jp_sales'])\n",
    "ax3.set_title(\"Япония\", size = 15)\n",
    "ax3.set_ylim([0, 700])\n",
    "\n",
    "plt.show()"
   ]
  },
  {
   "cell_type": "markdown",
   "id": "48bad4a0",
   "metadata": {},
   "source": [
    "По абсолютному числу продаж лидирует Северная Америка.\n",
    "\n",
    "В Северной Америке и Европе популярны одни и те же платформы. В Северной Америке самой популярной платформой является X-Box 360, а в Европе - PS2.\n",
    "\n",
    "В Японии самыми популярнми платформами являются (сюрприз) Японские игровые платформы. Самая популярная платформа - Nintendo DS."
   ]
  },
  {
   "cell_type": "code",
   "execution_count": null,
   "id": "8bcb95dd",
   "metadata": {},
   "outputs": [],
   "source": [
    "#Жанры\n",
    "fig, (ax1, ax2, ax3) = plt.subplots(1, 3, figsize=(20, 5))\n",
    "\n",
    "ax1.bar(NA_gnr['genre'], NA_gnr['na_sales'])\n",
    "ax1.set_title(\"Северная Америка\", size = 15)\n",
    "ax1.set_ylim([0, 800])\n",
    "\n",
    "ax2.bar(EU_gnr['genre'], EU_gnr['eu_sales'])\n",
    "ax2.set_title(\"Европа\", size = 15)\n",
    "ax2.set_ylim([0, 800])\n",
    "\n",
    "ax3.bar(JP_gnr['genre'], JP_gnr['jp_sales'])\n",
    "ax3.set_title(\"Япония\", size = 15)\n",
    "ax3.set_ylim([0, 800])\n",
    "\n",
    "plt.show()"
   ]
  },
  {
   "cell_type": "markdown",
   "id": "e65f7b2d",
   "metadata": {},
   "source": [
    "Популярные жанры в Сервеной Америке и Европе совпадают. С тем отличием, что в Америке предпочитают RPG, а в Европе - гонки. Популярные жарны в Японии не совпадают с остальными рассматриаемыми регионами. Самы популярный жанр - RPG. "
   ]
  },
  {
   "cell_type": "code",
   "execution_count": null,
   "id": "3a1df31b",
   "metadata": {},
   "outputs": [],
   "source": [
    "data['rating'].unique()"
   ]
  },
  {
   "cell_type": "code",
   "execution_count": null,
   "id": "cd82f7ee",
   "metadata": {},
   "outputs": [],
   "source": [
    "def translate_esrb_rating(row):\n",
    "    if row == 'E' or row == 'EC':\n",
    "        return 'Для детей'\n",
    "    elif row == 'T' or row == 'E10+':\n",
    "        return 'Для подростков'\n",
    "    elif row == 'AO' or row == 'RP' or row == 'M':\n",
    "        return 'Для взрослых'\n",
    "    \n",
    "data['rating_po_ludski'] = data['rating'].apply(translate_esrb_rating)\n",
    "data['rating_po_ludski'].unique()"
   ]
  },
  {
   "cell_type": "code",
   "execution_count": null,
   "id": "b1886139",
   "metadata": {},
   "outputs": [],
   "source": [
    "#Возрастной рейтинг\n",
    "fig, axs = plt.subplots(ncols=3,\n",
    "                       figsize=(20, 5))\n",
    "axs[0].set(ylim=(0, 1.5))\n",
    "axs[1].set(ylim=(0, 0.8))\n",
    "axs[2].set(ylim=(0, 0.1))\n",
    "\n",
    "\n",
    "axs[0].set_title(\"Северна Америка\", size = 15)\n",
    "axs[1].set_title(\"Европа\", size = 15)\n",
    "axs[2].set_title(\"Япония\", size = 15)\n",
    "\n",
    "sns.boxplot(x= data['rating'], y= data['na_sales'], data=data, ax=axs[0])\n",
    "sns.boxplot(x= data['rating'], y= data['eu_sales'], data=data, ax=axs[1])\n",
    "sns.boxplot(x= data['rating'], y= data['jp_sales'], data=data, ax=axs[2])"
   ]
  },
  {
   "cell_type": "markdown",
   "id": "c0216fee",
   "metadata": {},
   "source": [
    "Во всех странах по продажам лидируют игры с рейитнгом \"M\" - для взрослых. Этот рейтинг используется,когда присутствуют сцены насилия. Также может присутствовать ненормативная лексика, употребление табака, алкоголя или наркотиков.\n",
    "\n",
    "В Японии основную часть рынка видеоигр составляют игры с рейтингом M - дл взрослых и T - для детей от 13 лет. Игр с другими возрастными рейтингами значительно меньше, однако и в них есть игры, с достаточно большим количеством продаж."
   ]
  },
  {
   "cell_type": "markdown",
   "id": "0ae62b64",
   "metadata": {},
   "source": [
    "### 4. Проверка гипотез"
   ]
  },
  {
   "cell_type": "markdown",
   "id": "1173557b",
   "metadata": {},
   "source": [
    "Проверим гипотезу **\"Средние пользовательские рейтинги платформ Xbox One и PC одинаковые.\"**\n",
    "\n",
    "\n",
    "**H0 (нулевая гипотеза)**: Средние пользовательские рейтинги платформ Xbox One и PC одинаковые.\n",
    "\n",
    "**H1 (альтернативная гипотеза)**: Средние пользовательские рейтинги платформ Xbox One и PC не одинаковые."
   ]
  },
  {
   "cell_type": "code",
   "execution_count": null,
   "id": "499e4ea3",
   "metadata": {},
   "outputs": [],
   "source": [
    "xone = data.loc[(data['platform'] == 'XOne') & ~(data['user_score'].isna()), ['user_score']]\n",
    "xone.hist()"
   ]
  },
  {
   "cell_type": "code",
   "execution_count": null,
   "id": "1ad2dc9a",
   "metadata": {},
   "outputs": [],
   "source": [
    "pc = data.loc[(data['platform'] == 'PC') & ~(data['user_score'].isna()), ['user_score']]\n",
    "pc.hist()"
   ]
  },
  {
   "cell_type": "code",
   "execution_count": null,
   "id": "6c9458b6",
   "metadata": {},
   "outputs": [],
   "source": [
    "#Критичский уровень значимости примем 0,05\n",
    "alpha = .05 \n",
    "\n",
    "#Так как мы проверяем гипотезу о равенстве средних двух генеральных совокупностей (все оценки игроков всех игр на XOne и PC),\n",
    "#то выбираем метод ttest_ind\n",
    "#Не очень понимаю, нужно ли указывать параметр equal_var и как оценить дисперсии двух генеральных совокупностей по выборкам.\n",
    "#Наверное они, скорее - всего равны, но, полагаю, что нужна проверка и вывод, подвержденный ицфрой, а не предположение\n",
    "result_platform = st.ttest_ind(\n",
    "    xone, \n",
    "    pc)\n",
    "\n",
    "print('p-value:', result_platform.pvalue)\n",
    "\n",
    "\n",
    "if (result_platform.pvalue < alpha): \n",
    "    print(\"Отвергаем нулевую гипотезу.\")\n",
    "else:\n",
    "    print(\"Не достаточно оснований отвергнуть нулевую гипотезу.\") "
   ]
  },
  {
   "cell_type": "markdown",
   "id": "e30468ea",
   "metadata": {},
   "source": [
    "Вероятность получить такое или более выраженное отличие средних двух генеральных совокупностей меньше критического уровня значимости (крайне мала), поэтому отвергаем нулевую гипотезу.\n",
    "\n",
    "![KRAYNE MALA](http://sun9-41.userapi.com/impf/c627718/v627718013/15a00/qcASs9jzXnY.jpg?size=468x468&quality=96&sign=c1fdcb71f14440b37da9d15e65ba330b&type=album)"
   ]
  },
  {
   "cell_type": "markdown",
   "id": "a8b30e38",
   "metadata": {},
   "source": [
    "Проверим гипотезу **\"Средние пользовательские рейтинги жанров Action и Sports разные.\"**\n",
    "\n",
    "\n",
    "**H0 (нулевая гипотеза)**: Средние пользовательские рейтинги двух жанров разные.\n",
    "\n",
    "**H1 (альтернативная гипотеза)**: Средние пользовательские рейтинги двух жанров одинаковые."
   ]
  },
  {
   "cell_type": "code",
   "execution_count": null,
   "id": "8eb2791b",
   "metadata": {},
   "outputs": [],
   "source": [
    "action = data.loc[(data['genre'] == 'Action') & ~(data['user_score'].isna()), ['user_score']]\n",
    "action.hist()"
   ]
  },
  {
   "cell_type": "code",
   "execution_count": null,
   "id": "4e68c2bc",
   "metadata": {},
   "outputs": [],
   "source": [
    "sports = data.loc[(data['genre'] == 'Sports') & ~(data['user_score'].isna()), ['user_score']]\n",
    "sports.hist()"
   ]
  },
  {
   "cell_type": "code",
   "execution_count": null,
   "id": "9fd90321",
   "metadata": {},
   "outputs": [],
   "source": [
    "#Критичский уровень значимости примем 0,05\n",
    "alpha = .05 \n",
    "\n",
    "result_genre = st.ttest_ind(\n",
    "    action, \n",
    "    sports\n",
    "    )\n",
    "\n",
    "print('p-value:', result_genre.pvalue)\n",
    "\n",
    "\n",
    "if (result_genre.pvalue < alpha): \n",
    "    print(\"Отвергаем нулевую гипотезу.\")\n",
    "else:\n",
    "    print(\"Не достаточно оснований отвергнуть нулевую гипотезу.\") "
   ]
  },
  {
   "cell_type": "markdown",
   "id": "79ccc362",
   "metadata": {},
   "source": [
    "Вероятность получить такое или более выраженное отличие средних двух генеральных совокупностей достаточно высока, поэтому у нас недостаточно оснований утверждать, что средние пользовательские рейтинги жанров Action и Sports разные. "
   ]
  },
  {
   "cell_type": "markdown",
   "id": "73b942e0",
   "metadata": {},
   "source": [
    "### 5. Вывод.\n",
    "\n",
    "Изучен набор данных о продажах видеоигр на разных платформах.\n",
    "\n",
    "Из набора данных видно, что с 2000 по 2010 год игровая индустрия активро развивалась, а после 2010 года продажи начали падать. Выяснилось, что игровые консоли живут как правило 8 лет, после чего выходит либо более современная модель в этом семействе консолей, либо интерес к рассматриваемой консоли начинает падать.\n",
    "\n",
    "Активнее всего продаются консоли Sony и Microsoft. На обхемыпродаж в бОльшей степени влияют отзывы критоков, чем отзывы игроков. Однако низкие оценки критиков не дают продаваться играм в большом объеме, в то время как низкие оценки игроков не мешают продаваться играм большим количеством копий.\n",
    "Самые популярный жанры - **Action, Sports, Shooter, Role - Playing, Misc.**\n",
    "\n",
    "* В Америке предпочитают игры жанра **Action** а также платформу **X-Box 360**\n",
    "* В Европе жанровые предпочтения аналогичны Американским, но самая популярная платформа - **PS**.\n",
    "* В Японии предпочитают приставки **Nintendo** и игры жанра **Role-Playing**.\n",
    "\n",
    "Самые популярные игры с возрастным рейтингом **\"Для взрослых\"** и **\"Для подростков\"**. В Японии игры с этими возрастными рейтингами представлены в бОльшем объеме, по сравнению с остальными.\n",
    "\n",
    "Были проверены следующие гипотезы (критический уровень значимости - 0,05):\n",
    "\n",
    "**\"Средние пользовательские рейтинги платформ Xbox One и PC одинаковые.\"** - гипотеза не подтвердилась (p-value = 0.0000375)\n",
    "\n",
    "**\"Средние пользовательские рейтинги жанров Action и Sports разные.\"** - гипотеза подтвердилась (p-value = 0.0906)"
   ]
  }
 ],
 "metadata": {
  "ExecuteTimeLog": [
   {
    "duration": 1141,
    "start_time": "2022-12-07T04:04:25.747Z"
   },
   {
    "duration": 143,
    "start_time": "2022-12-07T04:04:26.889Z"
   },
   {
    "duration": 0,
    "start_time": "2022-12-07T04:04:27.035Z"
   },
   {
    "duration": 0,
    "start_time": "2022-12-07T04:04:27.036Z"
   },
   {
    "duration": 0,
    "start_time": "2022-12-07T04:04:27.037Z"
   },
   {
    "duration": 0,
    "start_time": "2022-12-07T04:04:27.038Z"
   },
   {
    "duration": 0,
    "start_time": "2022-12-07T04:04:27.039Z"
   },
   {
    "duration": 0,
    "start_time": "2022-12-07T04:04:27.040Z"
   },
   {
    "duration": 0,
    "start_time": "2022-12-07T04:04:27.041Z"
   },
   {
    "duration": 0,
    "start_time": "2022-12-07T04:04:27.042Z"
   },
   {
    "duration": 0,
    "start_time": "2022-12-07T04:04:27.043Z"
   },
   {
    "duration": 0,
    "start_time": "2022-12-07T04:04:27.044Z"
   },
   {
    "duration": 0,
    "start_time": "2022-12-07T04:04:27.045Z"
   },
   {
    "duration": 0,
    "start_time": "2022-12-07T04:04:27.046Z"
   },
   {
    "duration": 0,
    "start_time": "2022-12-07T04:04:27.047Z"
   },
   {
    "duration": 0,
    "start_time": "2022-12-07T04:04:27.048Z"
   },
   {
    "duration": 0,
    "start_time": "2022-12-07T04:04:27.049Z"
   },
   {
    "duration": 0,
    "start_time": "2022-12-07T04:04:27.050Z"
   },
   {
    "duration": 0,
    "start_time": "2022-12-07T04:04:27.077Z"
   },
   {
    "duration": 0,
    "start_time": "2022-12-07T04:04:27.078Z"
   },
   {
    "duration": 0,
    "start_time": "2022-12-07T04:04:27.080Z"
   },
   {
    "duration": 0,
    "start_time": "2022-12-07T04:04:27.080Z"
   },
   {
    "duration": 0,
    "start_time": "2022-12-07T04:04:27.081Z"
   },
   {
    "duration": 0,
    "start_time": "2022-12-07T04:04:27.082Z"
   },
   {
    "duration": 0,
    "start_time": "2022-12-07T04:04:27.083Z"
   },
   {
    "duration": 0,
    "start_time": "2022-12-07T04:04:27.084Z"
   },
   {
    "duration": 0,
    "start_time": "2022-12-07T04:04:27.087Z"
   },
   {
    "duration": 0,
    "start_time": "2022-12-07T04:04:27.088Z"
   },
   {
    "duration": 0,
    "start_time": "2022-12-07T04:04:27.089Z"
   },
   {
    "duration": 0,
    "start_time": "2022-12-07T04:04:27.090Z"
   },
   {
    "duration": 0,
    "start_time": "2022-12-07T04:04:27.091Z"
   },
   {
    "duration": 0,
    "start_time": "2022-12-07T04:04:27.092Z"
   },
   {
    "duration": 0,
    "start_time": "2022-12-07T04:04:27.093Z"
   },
   {
    "duration": 0,
    "start_time": "2022-12-07T04:04:27.094Z"
   },
   {
    "duration": 0,
    "start_time": "2022-12-07T04:04:27.095Z"
   },
   {
    "duration": 0,
    "start_time": "2022-12-07T04:04:27.096Z"
   },
   {
    "duration": 0,
    "start_time": "2022-12-07T04:04:27.097Z"
   },
   {
    "duration": 0,
    "start_time": "2022-12-07T04:04:27.098Z"
   },
   {
    "duration": 0,
    "start_time": "2022-12-07T04:04:27.099Z"
   },
   {
    "duration": 0,
    "start_time": "2022-12-07T04:04:27.100Z"
   },
   {
    "duration": 0,
    "start_time": "2022-12-07T04:04:27.101Z"
   },
   {
    "duration": 0,
    "start_time": "2022-12-07T04:04:27.102Z"
   },
   {
    "duration": 0,
    "start_time": "2022-12-07T04:04:27.104Z"
   },
   {
    "duration": 0,
    "start_time": "2022-12-07T04:04:27.105Z"
   },
   {
    "duration": 51,
    "start_time": "2022-12-07T06:40:00.458Z"
   },
   {
    "duration": 1348,
    "start_time": "2022-12-07T06:40:03.641Z"
   },
   {
    "duration": 269,
    "start_time": "2022-12-07T06:40:06.963Z"
   },
   {
    "duration": 1434,
    "start_time": "2022-12-07T15:10:31.167Z"
   },
   {
    "duration": 183,
    "start_time": "2022-12-07T15:10:32.604Z"
   },
   {
    "duration": 18,
    "start_time": "2022-12-07T15:10:32.791Z"
   },
   {
    "duration": 38,
    "start_time": "2022-12-07T15:10:32.811Z"
   },
   {
    "duration": 5,
    "start_time": "2022-12-07T15:10:32.850Z"
   },
   {
    "duration": 26,
    "start_time": "2022-12-07T15:10:32.857Z"
   },
   {
    "duration": 907,
    "start_time": "2022-12-07T15:10:32.885Z"
   },
   {
    "duration": 222,
    "start_time": "2022-12-07T15:10:33.794Z"
   },
   {
    "duration": 6,
    "start_time": "2022-12-07T15:10:34.017Z"
   },
   {
    "duration": 10,
    "start_time": "2022-12-07T15:10:34.036Z"
   },
   {
    "duration": 15,
    "start_time": "2022-12-07T15:10:34.047Z"
   },
   {
    "duration": 4,
    "start_time": "2022-12-07T15:10:34.063Z"
   },
   {
    "duration": 10,
    "start_time": "2022-12-07T15:10:34.068Z"
   },
   {
    "duration": 18,
    "start_time": "2022-12-07T15:10:34.080Z"
   },
   {
    "duration": 1054,
    "start_time": "2022-12-07T15:10:34.100Z"
   },
   {
    "duration": 1366,
    "start_time": "2022-12-07T15:10:35.156Z"
   },
   {
    "duration": 0,
    "start_time": "2022-12-07T15:10:36.525Z"
   },
   {
    "duration": 0,
    "start_time": "2022-12-07T15:10:36.526Z"
   },
   {
    "duration": 0,
    "start_time": "2022-12-07T15:10:36.528Z"
   },
   {
    "duration": 0,
    "start_time": "2022-12-07T15:10:36.529Z"
   },
   {
    "duration": 0,
    "start_time": "2022-12-07T15:10:36.530Z"
   },
   {
    "duration": 0,
    "start_time": "2022-12-07T15:10:36.531Z"
   },
   {
    "duration": 0,
    "start_time": "2022-12-07T15:10:36.533Z"
   },
   {
    "duration": 0,
    "start_time": "2022-12-07T15:10:36.534Z"
   },
   {
    "duration": 0,
    "start_time": "2022-12-07T15:10:36.536Z"
   },
   {
    "duration": 0,
    "start_time": "2022-12-07T15:10:36.537Z"
   },
   {
    "duration": 0,
    "start_time": "2022-12-07T15:10:36.539Z"
   },
   {
    "duration": 0,
    "start_time": "2022-12-07T15:10:36.540Z"
   },
   {
    "duration": 0,
    "start_time": "2022-12-07T15:10:36.542Z"
   },
   {
    "duration": 0,
    "start_time": "2022-12-07T15:10:36.543Z"
   },
   {
    "duration": 0,
    "start_time": "2022-12-07T15:10:36.545Z"
   },
   {
    "duration": 0,
    "start_time": "2022-12-07T15:10:36.546Z"
   },
   {
    "duration": 0,
    "start_time": "2022-12-07T15:10:36.548Z"
   },
   {
    "duration": 0,
    "start_time": "2022-12-07T15:10:36.549Z"
   },
   {
    "duration": 0,
    "start_time": "2022-12-07T15:10:36.550Z"
   },
   {
    "duration": 0,
    "start_time": "2022-12-07T15:10:36.552Z"
   },
   {
    "duration": 0,
    "start_time": "2022-12-07T15:10:36.553Z"
   },
   {
    "duration": 0,
    "start_time": "2022-12-07T15:10:36.554Z"
   },
   {
    "duration": 0,
    "start_time": "2022-12-07T15:10:36.556Z"
   },
   {
    "duration": 0,
    "start_time": "2022-12-07T15:10:36.557Z"
   },
   {
    "duration": 0,
    "start_time": "2022-12-07T15:10:36.558Z"
   },
   {
    "duration": 0,
    "start_time": "2022-12-07T15:10:36.560Z"
   },
   {
    "duration": 0,
    "start_time": "2022-12-07T15:10:36.561Z"
   },
   {
    "duration": 0,
    "start_time": "2022-12-07T15:10:36.564Z"
   },
   {
    "duration": 5,
    "start_time": "2022-12-07T15:13:06.419Z"
   },
   {
    "duration": 379,
    "start_time": "2022-12-07T15:13:06.425Z"
   },
   {
    "duration": 6,
    "start_time": "2022-12-07T15:13:06.806Z"
   },
   {
    "duration": 262,
    "start_time": "2022-12-07T15:13:06.813Z"
   },
   {
    "duration": 1495,
    "start_time": "2022-12-07T15:13:07.078Z"
   },
   {
    "duration": 29,
    "start_time": "2022-12-07T15:13:08.575Z"
   },
   {
    "duration": 36,
    "start_time": "2022-12-07T15:13:08.606Z"
   },
   {
    "duration": 101,
    "start_time": "2022-12-07T15:13:08.644Z"
   },
   {
    "duration": 1386,
    "start_time": "2022-12-07T15:13:08.747Z"
   },
   {
    "duration": 429,
    "start_time": "2022-12-07T15:13:10.135Z"
   },
   {
    "duration": 5,
    "start_time": "2022-12-07T15:13:10.566Z"
   },
   {
    "duration": 249,
    "start_time": "2022-12-07T15:13:10.573Z"
   },
   {
    "duration": 1730,
    "start_time": "2022-12-07T15:13:10.824Z"
   },
   {
    "duration": 14,
    "start_time": "2022-12-07T15:13:12.558Z"
   },
   {
    "duration": 261,
    "start_time": "2022-12-07T15:13:12.574Z"
   },
   {
    "duration": 23,
    "start_time": "2022-12-07T15:13:12.837Z"
   },
   {
    "duration": 21,
    "start_time": "2022-12-07T15:13:12.861Z"
   },
   {
    "duration": 284,
    "start_time": "2022-12-07T15:13:12.884Z"
   },
   {
    "duration": 282,
    "start_time": "2022-12-07T15:13:13.169Z"
   },
   {
    "duration": 5,
    "start_time": "2022-12-07T15:13:13.452Z"
   },
   {
    "duration": 13,
    "start_time": "2022-12-07T15:13:13.459Z"
   },
   {
    "duration": 619,
    "start_time": "2022-12-07T15:13:13.474Z"
   },
   {
    "duration": 148,
    "start_time": "2022-12-07T15:13:14.094Z"
   },
   {
    "duration": 125,
    "start_time": "2022-12-07T15:13:14.244Z"
   },
   {
    "duration": 6,
    "start_time": "2022-12-07T15:13:14.371Z"
   },
   {
    "duration": 118,
    "start_time": "2022-12-07T15:13:14.378Z"
   },
   {
    "duration": 139,
    "start_time": "2022-12-07T15:13:14.498Z"
   },
   {
    "duration": 6,
    "start_time": "2022-12-07T15:13:14.638Z"
   },
   {
    "duration": 10,
    "start_time": "2022-12-07T15:17:35.279Z"
   },
   {
    "duration": 26,
    "start_time": "2022-12-07T15:17:53.737Z"
   },
   {
    "duration": 12,
    "start_time": "2022-12-07T15:18:00.248Z"
   },
   {
    "duration": 10,
    "start_time": "2022-12-07T15:31:31.054Z"
   },
   {
    "duration": 23,
    "start_time": "2022-12-07T15:34:47.268Z"
   },
   {
    "duration": 10,
    "start_time": "2022-12-07T15:35:01.455Z"
   },
   {
    "duration": 3,
    "start_time": "2022-12-07T15:35:09.911Z"
   },
   {
    "duration": 96,
    "start_time": "2022-12-07T15:35:10.141Z"
   },
   {
    "duration": 16,
    "start_time": "2022-12-07T15:35:12.041Z"
   },
   {
    "duration": 42,
    "start_time": "2022-12-07T15:35:13.564Z"
   },
   {
    "duration": 5,
    "start_time": "2022-12-07T15:35:15.838Z"
   },
   {
    "duration": 10,
    "start_time": "2022-12-07T15:35:18.106Z"
   },
   {
    "duration": 6,
    "start_time": "2022-12-07T15:35:24.226Z"
   },
   {
    "duration": 10,
    "start_time": "2022-12-07T15:35:26.749Z"
   },
   {
    "duration": 4,
    "start_time": "2022-12-07T15:35:28.839Z"
   },
   {
    "duration": 9,
    "start_time": "2022-12-07T15:35:30.661Z"
   },
   {
    "duration": 29,
    "start_time": "2022-12-07T15:35:52.402Z"
   },
   {
    "duration": 7,
    "start_time": "2022-12-07T15:36:23.993Z"
   },
   {
    "duration": 4,
    "start_time": "2022-12-07T15:36:40.815Z"
   },
   {
    "duration": 22,
    "start_time": "2022-12-07T15:36:58.340Z"
   },
   {
    "duration": 17,
    "start_time": "2022-12-07T15:37:39.370Z"
   },
   {
    "duration": 10,
    "start_time": "2022-12-07T15:37:48.402Z"
   },
   {
    "duration": 9,
    "start_time": "2022-12-07T15:37:52.693Z"
   },
   {
    "duration": 9,
    "start_time": "2022-12-07T15:38:08.414Z"
   },
   {
    "duration": 11,
    "start_time": "2022-12-07T15:38:12.252Z"
   },
   {
    "duration": 4,
    "start_time": "2022-12-07T15:38:37.405Z"
   },
   {
    "duration": 17,
    "start_time": "2022-12-07T15:39:03.653Z"
   },
   {
    "duration": 5,
    "start_time": "2022-12-07T15:41:34.098Z"
   },
   {
    "duration": 710,
    "start_time": "2022-12-07T15:49:30.862Z"
   },
   {
    "duration": 26,
    "start_time": "2022-12-07T15:49:36.735Z"
   },
   {
    "duration": 9,
    "start_time": "2022-12-07T15:49:57.346Z"
   },
   {
    "duration": 20,
    "start_time": "2022-12-07T15:50:14.066Z"
   },
   {
    "duration": 9,
    "start_time": "2022-12-07T15:50:56.502Z"
   },
   {
    "duration": 18,
    "start_time": "2022-12-07T15:51:01.764Z"
   },
   {
    "duration": 800,
    "start_time": "2022-12-07T15:51:17.850Z"
   },
   {
    "duration": 22,
    "start_time": "2022-12-07T15:51:19.025Z"
   },
   {
    "duration": 9,
    "start_time": "2022-12-07T15:51:22.733Z"
   },
   {
    "duration": 898,
    "start_time": "2022-12-07T15:52:23.034Z"
   },
   {
    "duration": 24,
    "start_time": "2022-12-07T15:52:24.204Z"
   },
   {
    "duration": 16,
    "start_time": "2022-12-07T15:52:26.963Z"
   },
   {
    "duration": 4,
    "start_time": "2022-12-07T15:52:43.735Z"
   },
   {
    "duration": 5,
    "start_time": "2022-12-07T15:53:22.245Z"
   },
   {
    "duration": 21,
    "start_time": "2022-12-07T15:53:25.656Z"
   },
   {
    "duration": 22,
    "start_time": "2022-12-07T15:55:12.076Z"
   },
   {
    "duration": 59,
    "start_time": "2022-12-08T15:42:15.964Z"
   },
   {
    "duration": 1148,
    "start_time": "2022-12-08T15:42:36.544Z"
   },
   {
    "duration": 133,
    "start_time": "2022-12-08T15:42:37.694Z"
   },
   {
    "duration": 17,
    "start_time": "2022-12-08T15:42:37.829Z"
   },
   {
    "duration": 30,
    "start_time": "2022-12-08T15:42:37.848Z"
   },
   {
    "duration": 5,
    "start_time": "2022-12-08T15:42:37.881Z"
   },
   {
    "duration": 18,
    "start_time": "2022-12-08T15:42:37.887Z"
   },
   {
    "duration": 874,
    "start_time": "2022-12-08T15:42:37.921Z"
   },
   {
    "duration": 204,
    "start_time": "2022-12-08T15:42:38.797Z"
   },
   {
    "duration": 6,
    "start_time": "2022-12-08T15:42:39.002Z"
   },
   {
    "duration": 27,
    "start_time": "2022-12-08T15:42:39.009Z"
   },
   {
    "duration": 9,
    "start_time": "2022-12-08T15:42:39.038Z"
   },
   {
    "duration": 4,
    "start_time": "2022-12-08T15:42:39.049Z"
   },
   {
    "duration": 14,
    "start_time": "2022-12-08T15:42:39.055Z"
   },
   {
    "duration": 24,
    "start_time": "2022-12-08T15:42:39.073Z"
   },
   {
    "duration": 1066,
    "start_time": "2022-12-08T15:42:39.099Z"
   },
   {
    "duration": 4,
    "start_time": "2022-12-08T15:42:40.166Z"
   },
   {
    "duration": 20,
    "start_time": "2022-12-08T15:42:40.172Z"
   },
   {
    "duration": 11,
    "start_time": "2022-12-08T15:42:40.194Z"
   },
   {
    "duration": 32,
    "start_time": "2022-12-08T15:42:40.207Z"
   },
   {
    "duration": 1365,
    "start_time": "2022-12-08T15:42:40.240Z"
   },
   {
    "duration": 0,
    "start_time": "2022-12-08T15:42:41.607Z"
   },
   {
    "duration": 0,
    "start_time": "2022-12-08T15:42:41.608Z"
   },
   {
    "duration": 0,
    "start_time": "2022-12-08T15:42:41.610Z"
   },
   {
    "duration": 0,
    "start_time": "2022-12-08T15:42:41.611Z"
   },
   {
    "duration": 0,
    "start_time": "2022-12-08T15:42:41.611Z"
   },
   {
    "duration": 0,
    "start_time": "2022-12-08T15:42:41.612Z"
   },
   {
    "duration": 0,
    "start_time": "2022-12-08T15:42:41.614Z"
   },
   {
    "duration": 0,
    "start_time": "2022-12-08T15:42:41.615Z"
   },
   {
    "duration": 0,
    "start_time": "2022-12-08T15:42:41.616Z"
   },
   {
    "duration": 0,
    "start_time": "2022-12-08T15:42:41.617Z"
   },
   {
    "duration": 0,
    "start_time": "2022-12-08T15:42:41.618Z"
   },
   {
    "duration": 0,
    "start_time": "2022-12-08T15:42:41.619Z"
   },
   {
    "duration": 0,
    "start_time": "2022-12-08T15:42:41.620Z"
   },
   {
    "duration": 0,
    "start_time": "2022-12-08T15:42:41.621Z"
   },
   {
    "duration": 0,
    "start_time": "2022-12-08T15:42:41.623Z"
   },
   {
    "duration": 0,
    "start_time": "2022-12-08T15:42:41.623Z"
   },
   {
    "duration": 0,
    "start_time": "2022-12-08T15:42:41.624Z"
   },
   {
    "duration": 0,
    "start_time": "2022-12-08T15:42:41.625Z"
   },
   {
    "duration": 0,
    "start_time": "2022-12-08T15:42:41.626Z"
   },
   {
    "duration": 0,
    "start_time": "2022-12-08T15:42:41.627Z"
   },
   {
    "duration": 0,
    "start_time": "2022-12-08T15:42:41.630Z"
   },
   {
    "duration": 0,
    "start_time": "2022-12-08T15:42:41.631Z"
   },
   {
    "duration": 0,
    "start_time": "2022-12-08T15:42:41.634Z"
   },
   {
    "duration": 0,
    "start_time": "2022-12-08T15:42:41.635Z"
   },
   {
    "duration": 0,
    "start_time": "2022-12-08T15:42:41.636Z"
   },
   {
    "duration": 0,
    "start_time": "2022-12-08T15:42:41.637Z"
   },
   {
    "duration": 0,
    "start_time": "2022-12-08T15:42:41.638Z"
   },
   {
    "duration": 0,
    "start_time": "2022-12-08T15:42:41.639Z"
   },
   {
    "duration": 0,
    "start_time": "2022-12-08T15:42:41.641Z"
   },
   {
    "duration": 113,
    "start_time": "2022-12-08T15:43:20.084Z"
   },
   {
    "duration": 1357,
    "start_time": "2022-12-08T15:43:22.792Z"
   },
   {
    "duration": 4,
    "start_time": "2022-12-08T15:43:54.769Z"
   },
   {
    "duration": 6,
    "start_time": "2022-12-08T15:43:55.263Z"
   },
   {
    "duration": 24,
    "start_time": "2022-12-08T15:43:56.676Z"
   },
   {
    "duration": 817,
    "start_time": "2022-12-08T15:43:59.100Z"
   },
   {
    "duration": 28,
    "start_time": "2022-12-08T15:44:01.586Z"
   },
   {
    "duration": 24,
    "start_time": "2022-12-08T15:44:11.748Z"
   },
   {
    "duration": 14,
    "start_time": "2022-12-08T15:44:37.159Z"
   },
   {
    "duration": 10,
    "start_time": "2022-12-08T15:45:38.260Z"
   },
   {
    "duration": 12,
    "start_time": "2022-12-08T15:45:48.274Z"
   },
   {
    "duration": 9,
    "start_time": "2022-12-08T15:46:11.621Z"
   },
   {
    "duration": 12,
    "start_time": "2022-12-08T15:46:27.341Z"
   },
   {
    "duration": 13,
    "start_time": "2022-12-08T15:46:46.702Z"
   },
   {
    "duration": 17,
    "start_time": "2022-12-08T15:46:59.562Z"
   },
   {
    "duration": 16,
    "start_time": "2022-12-08T15:47:12.165Z"
   },
   {
    "duration": 9,
    "start_time": "2022-12-08T15:47:28.174Z"
   },
   {
    "duration": 14,
    "start_time": "2022-12-08T15:48:08.254Z"
   }
  ],
  "celltoolbar": "Tags",
  "kernelspec": {
   "display_name": "Python 3 (ipykernel)",
   "language": "python",
   "name": "python3"
  },
  "language_info": {
   "codemirror_mode": {
    "name": "ipython",
    "version": 3
   },
   "file_extension": ".py",
   "mimetype": "text/x-python",
   "name": "python",
   "nbconvert_exporter": "python",
   "pygments_lexer": "ipython3",
   "version": "3.9.12"
  },
  "toc": {
   "base_numbering": 1,
   "nav_menu": {},
   "number_sections": true,
   "sideBar": true,
   "skip_h1_title": true,
   "title_cell": "Table of Contents",
   "title_sidebar": "Contents",
   "toc_cell": false,
   "toc_position": {},
   "toc_section_display": true,
   "toc_window_display": false
  }
 },
 "nbformat": 4,
 "nbformat_minor": 5
}
